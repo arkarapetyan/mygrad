{
 "cells": [
  {
   "cell_type": "code",
   "execution_count": 1,
   "id": "8adee144",
   "metadata": {},
   "outputs": [],
   "source": [
    "from src.value import Value\n",
    "import src.function as F\n",
    "import numpy as np"
   ]
  },
  {
   "cell_type": "code",
   "execution_count": 2,
   "id": "d4f4773f",
   "metadata": {},
   "outputs": [
    {
     "name": "stdout",
     "output_type": "stream",
     "text": [
      "Creating Function of type <class 'src.function._Linear'> with name linear_0\n",
      "Creating Function of type <class 'src.function._Sigmoid'> with name sigmoid_0\n"
     ]
    },
    {
     "data": {
      "text/plain": [
       "(Value(data=[[10 20]\n",
       "  [ 2  2]], shape=(2, 2), name=x, requires_grad=True), dtype=int32,\n",
       " Value(data=[0.2  0.01], shape=(2,), name=w, requires_grad=True), dtype=float64,\n",
       " Value(data=[0 0], shape=(2,), name=b, requires_grad=True), dtype=int32,\n",
       " Value(data=[2.2  0.42], shape=(2,), name=(x@w+b), requires_grad=True), dtype=float64,\n",
       " Value(data=[0.90024951 0.60348325], shape=(2,), name=sigma((x@w+b)), requires_grad=True), dtype=float64)"
      ]
     },
     "execution_count": 2,
     "metadata": {},
     "output_type": "execute_result"
    }
   ],
   "source": [
    "x = Value(np.array([[10, 20], [2, 2]]), \"x\", requires_grad = True)\n",
    "w = Value(np.array([0.2, 0.01]), \"w\", requires_grad = True)\n",
    "b = Value(np.array([0, 0]), \"b\", requires_grad = True)\n",
    "y, linear_f = F.linear(x, w, b, return_func = True)\n",
    "p, sigmoid = F.sigmoid(y, return_func = True)\n",
    "x, w, b, y, p"
   ]
  },
  {
   "cell_type": "code",
   "execution_count": 3,
   "id": "2a7c9e87",
   "metadata": {
    "scrolled": true
   },
   "outputs": [],
   "source": [
    "sigmoid.backward()"
   ]
  },
  {
   "cell_type": "code",
   "execution_count": 4,
   "id": "0e821c28",
   "metadata": {},
   "outputs": [
    {
     "data": {
      "text/plain": [
       "array([0.08980033, 0.23929122])"
      ]
     },
     "execution_count": 4,
     "metadata": {},
     "output_type": "execute_result"
    }
   ],
   "source": [
    "y.grad"
   ]
  },
  {
   "cell_type": "code",
   "execution_count": 5,
   "id": "2dea9387",
   "metadata": {},
   "outputs": [
    {
     "data": {
      "text/plain": [
       "0.0203529779779881"
      ]
     },
     "execution_count": 5,
     "metadata": {},
     "output_type": "execute_result"
    }
   ],
   "source": [
    "x.grad"
   ]
  },
  {
   "cell_type": "code",
   "execution_count": 6,
   "id": "7184d076",
   "metadata": {},
   "outputs": [
    {
     "data": {
      "text/plain": [
       "array([1.37658572, 2.27458901])"
      ]
     },
     "execution_count": 6,
     "metadata": {},
     "output_type": "execute_result"
    }
   ],
   "source": [
    "w.grad"
   ]
  },
  {
   "cell_type": "code",
   "execution_count": 7,
   "id": "449cc9f8",
   "metadata": {
    "scrolled": true
   },
   "outputs": [
    {
     "data": {
      "text/plain": [
       "array([0.08980033, 0.23929122])"
      ]
     },
     "execution_count": 7,
     "metadata": {},
     "output_type": "execute_result"
    }
   ],
   "source": [
    "b.grad"
   ]
  },
  {
   "cell_type": "code",
   "execution_count": 15,
   "id": "d4556e07",
   "metadata": {},
   "outputs": [
    {
     "data": {
      "text/plain": [
       "array([1, 1])"
      ]
     },
     "execution_count": 15,
     "metadata": {},
     "output_type": "execute_result"
    }
   ],
   "source": [
    "A = np.array([[1,0],[0,1]])\n",
    "B = np.array([1, 1])\n",
    "A @ B"
   ]
  },
  {
   "cell_type": "code",
   "execution_count": null,
   "id": "c27530cb",
   "metadata": {},
   "outputs": [],
   "source": [
    "B.reshape()"
   ]
  }
 ],
 "metadata": {
  "kernelspec": {
   "display_name": "Python 3 (ipykernel)",
   "language": "python",
   "name": "python3"
  },
  "language_info": {
   "codemirror_mode": {
    "name": "ipython",
    "version": 3
   },
   "file_extension": ".py",
   "mimetype": "text/x-python",
   "name": "python",
   "nbconvert_exporter": "python",
   "pygments_lexer": "ipython3",
   "version": "3.11.4"
  }
 },
 "nbformat": 4,
 "nbformat_minor": 5
}
