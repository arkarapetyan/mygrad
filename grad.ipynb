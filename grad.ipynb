{
 "cells": [
  {
   "cell_type": "code",
   "execution_count": 1,
   "id": "8adee144",
   "metadata": {},
   "outputs": [],
   "source": [
    "from src.value import Value\n",
    "from src.function import add, linear, matmul\n",
    "import numpy as np"
   ]
  },
  {
   "cell_type": "code",
   "execution_count": 2,
   "id": "d4f4773f",
   "metadata": {},
   "outputs": [
    {
     "name": "stdout",
     "output_type": "stream",
     "text": [
      "Creating Function of type <class 'src.function._Linear'> with name linear_0\n",
      "Creating Function of type <class 'src.function._Add'> with name add_0\n"
     ]
    }
   ],
   "source": [
    "x = Value(np.array([4]), \"x\", requires_grad = True)\n",
    "w = Value(np.array([8]), \"w\", requires_grad = True)\n",
    "b = Value(np.array([3]), \"b\", requires_grad = True)\n",
    "y, linear_f = linear(x, w, b, return_func = True)\n",
    "k = Value(np.array([2]), \"k\")\n",
    "d, add_f = add(y, k, return_func = True)"
   ]
  },
  {
   "cell_type": "code",
   "execution_count": 3,
   "id": "2a7c9e87",
   "metadata": {},
   "outputs": [],
   "source": [
    "add_f.backward()"
   ]
  },
  {
   "cell_type": "code",
   "execution_count": 4,
   "id": "2dea9387",
   "metadata": {},
   "outputs": [
    {
     "data": {
      "text/plain": [
       "8.0"
      ]
     },
     "execution_count": 4,
     "metadata": {},
     "output_type": "execute_result"
    }
   ],
   "source": [
    "x.grad"
   ]
  },
  {
   "cell_type": "code",
   "execution_count": 5,
   "id": "7184d076",
   "metadata": {},
   "outputs": [
    {
     "data": {
      "text/plain": [
       "4.0"
      ]
     },
     "execution_count": 5,
     "metadata": {},
     "output_type": "execute_result"
    }
   ],
   "source": [
    "w.grad"
   ]
  },
  {
   "cell_type": "code",
   "execution_count": 6,
   "id": "449cc9f8",
   "metadata": {},
   "outputs": [
    {
     "data": {
      "text/plain": [
       "array([1.])"
      ]
     },
     "execution_count": 6,
     "metadata": {},
     "output_type": "execute_result"
    }
   ],
   "source": [
    "b.grad"
   ]
  },
  {
   "cell_type": "code",
   "execution_count": null,
   "id": "5bb028eb",
   "metadata": {},
   "outputs": [],
   "source": []
  }
 ],
 "metadata": {
  "kernelspec": {
   "display_name": "Python 3 (ipykernel)",
   "language": "python",
   "name": "python3"
  },
  "language_info": {
   "codemirror_mode": {
    "name": "ipython",
    "version": 3
   },
   "file_extension": ".py",
   "mimetype": "text/x-python",
   "name": "python",
   "nbconvert_exporter": "python",
   "pygments_lexer": "ipython3",
   "version": "3.11.4"
  }
 },
 "nbformat": 4,
 "nbformat_minor": 5
}
