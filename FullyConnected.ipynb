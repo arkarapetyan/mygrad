{
 "cells": [
  {
   "cell_type": "code",
   "execution_count": 1,
   "id": "2e13b9fe",
   "metadata": {},
   "outputs": [],
   "source": [
    "import numpy as np\n",
    "import mygrad\n",
    "import mygrad.functional as F\n",
    "import mygrad.nn as nn"
   ]
  },
  {
   "cell_type": "code",
   "execution_count": 2,
   "id": "303268e0",
   "metadata": {},
   "outputs": [],
   "source": [
    "from sklearn.datasets import fetch_california_housing\n",
    "\n",
    "X,y = fetch_california_housing(return_X_y=True)"
   ]
  },
  {
   "cell_type": "code",
   "execution_count": 3,
   "id": "fa2a6b50",
   "metadata": {},
   "outputs": [],
   "source": [
    "from sklearn.model_selection import train_test_split\n",
    "from sklearn.preprocessing import StandardScaler\n",
    "\n",
    "X_train, X_test, y_train, y_test = train_test_split(X, y)\n",
    "\n",
    "# scaler = StandardScaler()\n",
    "# X_train = scaler.fit_transform(X_train)\n",
    "# X_test = scaler.transform(X_test)"
   ]
  },
  {
   "cell_type": "code",
   "execution_count": 4,
   "id": "3ed82c0b",
   "metadata": {},
   "outputs": [
    {
     "data": {
      "text/plain": [
       "(15480, 8)"
      ]
     },
     "execution_count": 4,
     "metadata": {},
     "output_type": "execute_result"
    }
   ],
   "source": [
    "X_train.shape"
   ]
  },
  {
   "cell_type": "code",
   "execution_count": 5,
   "id": "171fda0b",
   "metadata": {},
   "outputs": [],
   "source": [
    "class FCNet(nn.Module):\n",
    "    def __init__(self, name, init=\"xavier_normal\"):\n",
    "        super(FCNet, self).__init__(name)\n",
    "        \n",
    "        self.linear1 = nn.Linear(f\"{name}.linear1\", 8, 32, init=init)\n",
    "        self.tanh1 = F.tanh()\n",
    "        self.linear2 = nn.Linear(f\"{name}.linear2\", 32, 1, init=init)\n",
    "        \n",
    "    def forward(self, X):\n",
    "        X = self.linear1.forward(X)\n",
    "        X = self.tanh1.forward(X)\n",
    "        X = self.linear2.forward(X)\n",
    "        \n",
    "        return X\n",
    "    \n",
    "    def parameters(self, ):\n",
    "        return self.linear1.parameters() + self.linear2.parameters()"
   ]
  },
  {
   "cell_type": "code",
   "execution_count": 6,
   "id": "ad43b75f",
   "metadata": {},
   "outputs": [
    {
     "name": "stdout",
     "output_type": "stream",
     "text": [
      "Creating Function of type <class 'mygrad.functional.function.Matmul'> with name matmul_0\n",
      "Creating Function of type <class 'mygrad.functional.function.Add'> with name add_0\n",
      "Creating Function of type <class 'mygrad.functional.function.Tanh'> with name tanh_0\n",
      "Creating Function of type <class 'mygrad.functional.function.Matmul'> with name matmul_1\n",
      "Creating Function of type <class 'mygrad.functional.function.Add'> with name add_1\n",
      "Creating Function of type <class 'mygrad.functional.function.MSELoss'> with name mse_loss_0\n",
      "fcnet.linear1.W (8, 32) (8, 32)\n",
      "fcnet.linear1.b (32,) (32,)\n",
      "fcnet.linear2.W (32,) (32,)\n"
     ]
    },
    {
     "name": "stderr",
     "output_type": "stream",
     "text": [
      "C:\\Users\\User\\Documents\\mygrad\\mygrad\\functional\\function.py:200: RuntimeWarning: overflow encountered in exp\n",
      "  t = 1 - 2 / (1 + np.exp(2 * x.data))\n"
     ]
    },
    {
     "ename": "ValueError",
     "evalue": "non-broadcastable output operand with shape (32,1) doesn't match the broadcast shape (32,32)",
     "output_type": "error",
     "traceback": [
      "\u001b[1;31m---------------------------------------------------------------------------\u001b[0m",
      "\u001b[1;31mValueError\u001b[0m                                Traceback (most recent call last)",
      "Cell \u001b[1;32mIn[6], line 17\u001b[0m\n\u001b[0;32m     14\u001b[0m loss \u001b[38;5;241m=\u001b[39m loss_fn\u001b[38;5;241m.\u001b[39mforward(y, y_batch)\n\u001b[0;32m     16\u001b[0m loss_fn\u001b[38;5;241m.\u001b[39mbackward()   \u001b[38;5;66;03m#Slightly different from torch\u001b[39;00m\n\u001b[1;32m---> 17\u001b[0m optim\u001b[38;5;241m.\u001b[39mstep()\n\u001b[0;32m     19\u001b[0m optim\u001b[38;5;241m.\u001b[39mzero_grad()\n\u001b[0;32m     21\u001b[0m history\u001b[38;5;241m.\u001b[39mappend(loss\u001b[38;5;241m.\u001b[39mdata)\n",
      "File \u001b[1;32m~\\Documents\\mygrad\\mygrad\\nn\\optim.py:13\u001b[0m, in \u001b[0;36mOptimizer.step\u001b[1;34m(self)\u001b[0m\n\u001b[0;32m     11\u001b[0m \u001b[38;5;28;01mdef\u001b[39;00m \u001b[38;5;21mstep\u001b[39m(\u001b[38;5;28mself\u001b[39m, ):\n\u001b[0;32m     12\u001b[0m     \u001b[38;5;28;01mfor\u001b[39;00m name, param \u001b[38;5;129;01min\u001b[39;00m \u001b[38;5;28mself\u001b[39m\u001b[38;5;241m.\u001b[39mparams\u001b[38;5;241m.\u001b[39mitems():\n\u001b[1;32m---> 13\u001b[0m         param\u001b[38;5;241m.\u001b[39mdata \u001b[38;5;241m-\u001b[39m\u001b[38;5;241m=\u001b[39m \u001b[38;5;28mself\u001b[39m\u001b[38;5;241m.\u001b[39mlr \u001b[38;5;241m*\u001b[39m \u001b[38;5;28mself\u001b[39m\u001b[38;5;241m.\u001b[39m__param_optim_step(name)\n",
      "\u001b[1;31mValueError\u001b[0m: non-broadcastable output operand with shape (32,1) doesn't match the broadcast shape (32,32)"
     ]
    }
   ],
   "source": [
    "history = []\n",
    "\n",
    "model = FCNet(\"fcnet\")\n",
    "\n",
    "loss_fn = F.mse_loss()\n",
    "optim = nn.Adam(model.parameters())\n",
    "\n",
    "for i in range(500):\n",
    "    ix = np.random.randint(0, len(X_train), 256)\n",
    "    x_batch = mygrad.value(X_train[ix], \"x_batch\")\n",
    "    y_batch = mygrad.value(y_train[ix], \"y_batch\")\n",
    "    \n",
    "    y = model.forward(x_batch)\n",
    "    loss = loss_fn.forward(y, y_batch)\n",
    "    \n",
    "    loss_fn.backward()   #Slightly different from torch\n",
    "    optim.step()\n",
    "    \n",
    "    optim.zero_grad()\n",
    "    \n",
    "    history.append(loss.data)\n",
    "\n",
    "    if i % 10 == 0:\n",
    "        print(\"step #%i | mean loss = %.3f\" % (i, np.mean(history[-10:])))\n",
    "    \n",
    "    "
   ]
  },
  {
   "cell_type": "code",
   "execution_count": null,
   "id": "0f5a4f78",
   "metadata": {},
   "outputs": [],
   "source": [
    "X_train = mygrad.value(X_train, \"X_train\", requires_grad=False)\n",
    "X_test = mygrad.value(X_test, \"X_test\", requires_grad=False)\n",
    "y_train = mygrad.value(y_train, \"y_train\", requires_grad=False)\n",
    "y_test = mygrad.value(y_test, \"y_test\", requires_grad=False)\n",
    "\n",
    "y_train_pred = model.forward(X_train)\n",
    "y_test_pred = model.forward(X_test)\n",
    "\n",
    "train_loss = loss_fn.forward(y_train_pred, y_batch)\n",
    "test_loss = loss_fn.forward(y_train_pred, y_batch)\n",
    "\n",
    "print(f\"Train MSE: {train_loss.data}\")\n",
    "print(f\"Test MSE: {test_loss.data}\")"
   ]
  }
 ],
 "metadata": {
  "kernelspec": {
   "display_name": "Python 3 (ipykernel)",
   "language": "python",
   "name": "python3"
  },
  "language_info": {
   "codemirror_mode": {
    "name": "ipython",
    "version": 3
   },
   "file_extension": ".py",
   "mimetype": "text/x-python",
   "name": "python",
   "nbconvert_exporter": "python",
   "pygments_lexer": "ipython3",
   "version": "3.11.4"
  }
 },
 "nbformat": 4,
 "nbformat_minor": 5
}
