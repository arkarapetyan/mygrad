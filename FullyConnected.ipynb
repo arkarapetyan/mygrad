{
 "cells": [
  {
   "cell_type": "code",
   "execution_count": 1,
   "id": "2e13b9fe",
   "metadata": {},
   "outputs": [],
   "source": [
    "import numpy as np\n",
    "import mygrad\n",
    "import mygrad.functional as F\n",
    "import mygrad.nn as nn"
   ]
  },
  {
   "cell_type": "code",
   "execution_count": 2,
   "id": "303268e0",
   "metadata": {},
   "outputs": [],
   "source": [
    "from sklearn.datasets import fetch_california_housing\n",
    "\n",
    "X,y = fetch_california_housing(return_X_y=True)"
   ]
  },
  {
   "cell_type": "code",
   "execution_count": 3,
   "id": "fa2a6b50",
   "metadata": {},
   "outputs": [],
   "source": [
    "from sklearn.model_selection import train_test_split\n",
    "from sklearn.preprocessing import StandardScaler\n",
    "\n",
    "X_train, X_test, y_train, y_test = train_test_split(X, y)\n",
    "\n",
    "scaler = StandardScaler()\n",
    "X_train = scaler.fit_transform(X_train)\n",
    "X_test = scaler.transform(X_test)"
   ]
  },
  {
   "cell_type": "code",
   "execution_count": 4,
   "id": "3ed82c0b",
   "metadata": {},
   "outputs": [
    {
     "data": {
      "text/plain": [
       "(15480, 8)"
      ]
     },
     "execution_count": 4,
     "metadata": {},
     "output_type": "execute_result"
    }
   ],
   "source": [
    "X_train.shape"
   ]
  },
  {
   "cell_type": "code",
   "execution_count": 5,
   "id": "171fda0b",
   "metadata": {},
   "outputs": [],
   "source": [
    "class FCNet(nn.Module):\n",
    "    def __init__(self, name, init=\"xavier_normal\"):\n",
    "        super(FCNet, self).__init__(name)\n",
    "        \n",
    "        #Specifying activation calculates function-specific gain for initialization\n",
    "        self.linear1 = nn.Linear(f\"{name}.linear1\", 8, 32, init=init, activation=\"Tanh\")\n",
    "        self.tanh1 = F.tanh()\n",
    "        self.linear2 = nn.Linear(f\"{name}.linear2\", 32, 1, init=init)\n",
    "        \n",
    "    def forward(self, X):\n",
    "        X = self.linear1.forward(X)\n",
    "        X = self.tanh1.forward(X)\n",
    "        X = self.linear2.forward(X)\n",
    "        \n",
    "        return X\n",
    "    \n",
    "    def parameters(self, ):\n",
    "        return self.linear1.parameters() + self.linear2.parameters()"
   ]
  },
  {
   "cell_type": "code",
   "execution_count": 6,
   "id": "ad43b75f",
   "metadata": {},
   "outputs": [
    {
     "name": "stdout",
     "output_type": "stream",
     "text": [
      "Creating Function of type <class 'mygrad.functional.function.Matmul'> with name matmul_0\n",
      "Creating Function of type <class 'mygrad.functional.function.Add'> with name add_0\n",
      "Invalid mode: n_in. Using n_in\n",
      "Creating Function of type <class 'mygrad.functional.function.Tanh'> with name tanh_0\n",
      "Creating Function of type <class 'mygrad.functional.function.Matmul'> with name matmul_1\n",
      "Creating Function of type <class 'mygrad.functional.function.Add'> with name add_1\n",
      "Invalid mode: n_in. Using n_in\n",
      "Creating Function of type <class 'mygrad.functional.function.MSELoss'> with name mse_loss_0\n",
      "step #0 | mean loss = 6.193\n",
      "step #10 | mean loss = 1.988\n",
      "step #20 | mean loss = 0.591\n",
      "step #30 | mean loss = 0.521\n",
      "step #40 | mean loss = 0.582\n",
      "step #50 | mean loss = 0.516\n",
      "step #60 | mean loss = 0.488\n",
      "step #70 | mean loss = 0.506\n",
      "step #80 | mean loss = 0.467\n",
      "step #90 | mean loss = 0.506\n",
      "step #100 | mean loss = 0.486\n",
      "step #110 | mean loss = 0.467\n",
      "step #120 | mean loss = 0.433\n",
      "step #130 | mean loss = 0.430\n",
      "step #140 | mean loss = 0.476\n",
      "step #150 | mean loss = 0.484\n",
      "step #160 | mean loss = 0.405\n",
      "step #170 | mean loss = 0.436\n",
      "step #180 | mean loss = 0.430\n",
      "step #190 | mean loss = 0.463\n",
      "step #200 | mean loss = 0.460\n",
      "step #210 | mean loss = 0.429\n",
      "step #220 | mean loss = 0.495\n",
      "step #230 | mean loss = 0.437\n",
      "step #240 | mean loss = 0.439\n",
      "step #250 | mean loss = 0.423\n",
      "step #260 | mean loss = 0.419\n",
      "step #270 | mean loss = 0.429\n",
      "step #280 | mean loss = 0.416\n",
      "step #290 | mean loss = 0.393\n",
      "step #300 | mean loss = 0.418\n",
      "step #310 | mean loss = 0.420\n",
      "step #320 | mean loss = 0.397\n",
      "step #330 | mean loss = 0.432\n",
      "step #340 | mean loss = 0.449\n",
      "step #350 | mean loss = 0.403\n",
      "step #360 | mean loss = 0.406\n",
      "step #370 | mean loss = 0.404\n",
      "step #380 | mean loss = 0.413\n",
      "step #390 | mean loss = 0.422\n",
      "step #400 | mean loss = 0.379\n",
      "step #410 | mean loss = 0.392\n",
      "step #420 | mean loss = 0.381\n",
      "step #430 | mean loss = 0.381\n",
      "step #440 | mean loss = 0.378\n",
      "step #450 | mean loss = 0.405\n",
      "step #460 | mean loss = 0.402\n",
      "step #470 | mean loss = 0.389\n",
      "step #480 | mean loss = 0.366\n",
      "step #490 | mean loss = 0.411\n"
     ]
    },
    {
     "name": "stderr",
     "output_type": "stream",
     "text": [
      "C:\\Users\\Aren\\Documents\\mygrad\\mygrad\\functional\\function.py:201: RuntimeWarning: overflow encountered in exp\n",
      "  t = 2 / (1 + np.exp(-2 * x.data)) - 1\n"
     ]
    }
   ],
   "source": [
    "history = []\n",
    "\n",
    "model = FCNet(\"fcnet\", init=\"he_normal\") # best init for the task. Also try \"xavier_normal\", \"xavier_uniform\"\n",
    "\n",
    "loss_fn = F.mse_loss()\n",
    "optim = nn.RMSProp(model.parameters()) #Also try nn.Adam and nn.SGD\n",
    "\n",
    "for i in range(500):\n",
    "    ix = np.random.randint(0, len(X_train), 256)\n",
    "    x_batch = mygrad.value(X_train[ix], \"x_batch\")\n",
    "    y_batch = mygrad.value(y_train[ix], \"y_batch\")\n",
    "    \n",
    "    y = model.forward(x_batch)\n",
    "    loss = loss_fn.forward(y, y_batch)\n",
    "    \n",
    "    loss_fn.backward()   #Slightly different from torch\n",
    "    optim.step()\n",
    "    \n",
    "    optim.zero_grad()\n",
    "    \n",
    "    history.append(loss.data)\n",
    "\n",
    "    if i % 10 == 0:\n",
    "        print(\"step #%i | mean loss = %.3f\" % (i, np.mean(history[-10:])))\n",
    "    \n",
    "    "
   ]
  },
  {
   "cell_type": "code",
   "execution_count": 7,
   "id": "0f5a4f78",
   "metadata": {},
   "outputs": [
    {
     "name": "stdout",
     "output_type": "stream",
     "text": [
      "Train MSE: 0.38138099701705874\n",
      "Test MSE: 0.3807619217668671\n"
     ]
    }
   ],
   "source": [
    "X_train = mygrad.value(X_train, \"X_train\", requires_grad=False)\n",
    "X_test = mygrad.value(X_test, \"X_test\", requires_grad=False)\n",
    "y_train = mygrad.value(y_train, \"y_train\", requires_grad=False)\n",
    "y_test = mygrad.value(y_test, \"y_test\", requires_grad=False)\n",
    "\n",
    "y_train_pred = model.forward(X_train)\n",
    "y_test_pred = model.forward(X_test)\n",
    "\n",
    "train_loss = loss_fn.forward(y_train_pred, y_train)\n",
    "test_loss = loss_fn.forward(y_test_pred, y_test)\n",
    "\n",
    "print(f\"Train MSE: {train_loss.data}\")\n",
    "print(f\"Test MSE: {test_loss.data}\")"
   ]
  }
 ],
 "metadata": {
  "kernelspec": {
   "display_name": "Python 3 (ipykernel)",
   "language": "python",
   "name": "python3"
  },
  "language_info": {
   "codemirror_mode": {
    "name": "ipython",
    "version": 3
   },
   "file_extension": ".py",
   "mimetype": "text/x-python",
   "name": "python",
   "nbconvert_exporter": "python",
   "pygments_lexer": "ipython3",
   "version": "3.11.5"
  }
 },
 "nbformat": 4,
 "nbformat_minor": 5
}
