{
 "cells": [
  {
   "cell_type": "code",
   "execution_count": 1,
   "id": "8adee144",
   "metadata": {},
   "outputs": [],
   "source": [
    "from src.value import Value\n",
    "import src.function as F\n",
    "import numpy as np"
   ]
  },
  {
   "cell_type": "code",
   "execution_count": 2,
   "id": "d4f4773f",
   "metadata": {},
   "outputs": [
    {
     "name": "stdout",
     "output_type": "stream",
     "text": [
      "Creating Function of type <class 'src.function._Matmul'> with name matmul_0\n",
      "Creating Function of type <class 'src.function._Add'> with name add_0\n",
      "Creating Function of type <class 'src.function._Sigmoid'> with name sigmoid_0\n",
      "Value(data=[[10 20]\n",
      " [ 2  2]], shape=(2, 2), name=x, requires_grad=True), dtype=int32\n",
      "Value(data=[0.2  0.01], shape=(2,), name=w, requires_grad=True), dtype=float64\n",
      "Value(data=[0 0], shape=(2,), name=b, requires_grad=True), dtype=int32\n",
      "Value(data=[2.2  0.42], shape=(2,), name=x@w, requires_grad=True), dtype=float64\n",
      "Value(data=[2.2  0.42], shape=(2,), name=(x@w+b), requires_grad=True), dtype=float64\n",
      "Value(data=[0.90024951 0.60348325], shape=(2,), name=sigma((x@w+b)), requires_grad=True), dtype=float64\n"
     ]
    }
   ],
   "source": [
    "x = Value(np.array([[10, 20], [2, 2]]), \"x\", requires_grad = True)\n",
    "w = Value(np.array([0.2, 0.01]), \"w\", requires_grad = True)\n",
    "b = Value(np.array([0, 0]), \"b\", requires_grad = True)\n",
    "k = F.matmul(x, w)\n",
    "y = F.add(k, b)\n",
    "p, sigmoid = F.sigmoid(y, return_func = True)\n",
    "print(x)\n",
    "print(w)\n",
    "print(b)\n",
    "print(k)\n",
    "print(y)\n",
    "print(p)"
   ]
  },
  {
   "cell_type": "code",
   "execution_count": 3,
   "id": "2a7c9e87",
   "metadata": {
    "scrolled": true
   },
   "outputs": [],
   "source": [
    "sigmoid.backward()"
   ]
  },
  {
   "cell_type": "code",
   "execution_count": 4,
   "id": "599ca303",
   "metadata": {},
   "outputs": [
    {
     "data": {
      "text/plain": [
       "'matmul_0'"
      ]
     },
     "execution_count": 4,
     "metadata": {},
     "output_type": "execute_result"
    }
   ],
   "source": [
    "k.function_id"
   ]
  },
  {
   "cell_type": "code",
   "execution_count": 5,
   "id": "0e821c28",
   "metadata": {},
   "outputs": [
    {
     "data": {
      "text/plain": [
       "array([0.08980033, 0.23929122])"
      ]
     },
     "execution_count": 5,
     "metadata": {},
     "output_type": "execute_result"
    }
   ],
   "source": [
    "y.grad"
   ]
  },
  {
   "cell_type": "code",
   "execution_count": 6,
   "id": "2dea9387",
   "metadata": {},
   "outputs": [
    {
     "data": {
      "text/plain": [
       "array([[0.01796007, 0.000898  ],\n",
       "       [0.04785824, 0.00239291]])"
      ]
     },
     "execution_count": 6,
     "metadata": {},
     "output_type": "execute_result"
    }
   ],
   "source": [
    "x.grad"
   ]
  },
  {
   "cell_type": "code",
   "execution_count": 7,
   "id": "7184d076",
   "metadata": {},
   "outputs": [
    {
     "data": {
      "text/plain": [
       "array([1.37658572, 2.27458901])"
      ]
     },
     "execution_count": 7,
     "metadata": {},
     "output_type": "execute_result"
    }
   ],
   "source": [
    "w.grad"
   ]
  },
  {
   "cell_type": "code",
   "execution_count": 8,
   "id": "449cc9f8",
   "metadata": {
    "scrolled": false
   },
   "outputs": [
    {
     "data": {
      "text/plain": [
       "array([0.08980033, 0.23929122])"
      ]
     },
     "execution_count": 8,
     "metadata": {},
     "output_type": "execute_result"
    }
   ],
   "source": [
    "b.grad"
   ]
  },
  {
   "cell_type": "code",
   "execution_count": 5,
   "id": "a660a0a3",
   "metadata": {},
   "outputs": [
    {
     "name": "stdout",
     "output_type": "stream",
     "text": [
      "B.g\n"
     ]
    }
   ],
   "source": [
    "class B(object):\n",
    "    def __init__(self,):\n",
    "        super(B, self).__init__()\n",
    "        \n",
    "    def f(self, b):\n",
    "        b._g()\n",
    "    \n",
    "    def _g(self, ):\n",
    "        print(\"B.g\")\n",
    "        \n",
    "b = B()\n",
    "c = B()\n",
    "b.f(c)"
   ]
  },
  {
   "cell_type": "code",
   "execution_count": null,
   "id": "82f66b12",
   "metadata": {},
   "outputs": [],
   "source": []
  }
 ],
 "metadata": {
  "kernelspec": {
   "display_name": "Python 3 (ipykernel)",
   "language": "python",
   "name": "python3"
  },
  "language_info": {
   "codemirror_mode": {
    "name": "ipython",
    "version": 3
   },
   "file_extension": ".py",
   "mimetype": "text/x-python",
   "name": "python",
   "nbconvert_exporter": "python",
   "pygments_lexer": "ipython3",
   "version": "3.11.4"
  }
 },
 "nbformat": 4,
 "nbformat_minor": 5
}
