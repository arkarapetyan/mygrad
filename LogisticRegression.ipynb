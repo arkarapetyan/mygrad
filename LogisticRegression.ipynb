{
 "cells": [
  {
   "cell_type": "code",
   "execution_count": 1,
   "id": "initial_id",
   "metadata": {},
   "outputs": [],
   "source": [
    "from src.value import Value\n",
    "import src.function as F\n",
    "import numpy as np"
   ]
  },
  {
   "cell_type": "code",
   "execution_count": 2,
   "id": "e59a9f46",
   "metadata": {},
   "outputs": [],
   "source": [
    "from sklearn.datasets import load_breast_cancer\n",
    "from sklearn.preprocessing import StandardScaler\n",
    "from sklearn.model_selection import train_test_split\n",
    "\n",
    "X, y = load_breast_cancer(return_X_y = True)\n",
    "X_train, X_test, y_train, y_test = train_test_split(X, y)\n",
    "\n",
    "scaler = StandardScaler()\n",
    "X_train = scaler.fit_transform(X_train)\n",
    "X_test = scaler.transform(X_test)\n",
    "\n",
    "X_train = Value(X_train, \"x_train\", requires_grad=False)\n",
    "X_test = Value(X_test, \"x_test\", requires_grad=False)\n",
    "y_train = Value(y_train, \"y_train\", requires_grad=False)\n",
    "y_test = Value(y_test, \"y_test\", requires_grad=False)"
   ]
  },
  {
   "cell_type": "code",
   "execution_count": 3,
   "id": "222abc80",
   "metadata": {},
   "outputs": [],
   "source": [
    "w = Value(np.random.randn(X.shape[1]) * 10**(-2), \"w\", requires_grad = True)\n",
    "b = Value([0.0], \"b\", requires_grad = True)"
   ]
  },
  {
   "cell_type": "code",
   "execution_count": 4,
   "id": "5eef2442",
   "metadata": {},
   "outputs": [
    {
     "name": "stdout",
     "output_type": "stream",
     "text": [
      "Creating Function of type <class 'src.function._Matmul'> with name matmul_0\n",
      "Creating Function of type <class 'src.function._Add'> with name add_0\n",
      "Creating Function of type <class 'src.function._BCELossWithLogits'> with name bce_loss_logit_0\n"
     ]
    }
   ],
   "source": [
    "lr = 0.01\n",
    "\n",
    "matmul1 = F._FunctionFactory().get_new_function_of_type(F._Matmul)\n",
    "add1 = F._FunctionFactory().get_new_function_of_type(F._Add)\n",
    "loss = F._FunctionFactory().get_new_function_of_type(F._BCELossWithLogits)\n",
    "    \n",
    "def fit(X, num_epoch):     \n",
    "    for i in range(num_epoch):\n",
    "        \n",
    "        y = add1.forward(matmul1.forward(X, w), b)\n",
    "        l = loss.forward(y, y_train)\n",
    "        loss.backward()\n",
    "        w.value -= lr * w.grad\n",
    "        b.value -= lr * b.grad\n",
    "        l.zero_grad()   \n",
    "        \n",
    "        # if i % 10:\n",
    "        print(f\"Epoch {i+1}/{num_epoch}: Train Loss: {l.value}\")\n",
    "\n",
    "def predict(X):\n",
    "    y = add1.forward(matmul1.forward(X, w), b)\n",
    "    y_pred = F.sigmoid(y).value > 0.5\n",
    "    \n",
    "    return y_pred"
   ]
  },
  {
   "cell_type": "code",
   "execution_count": 5,
   "id": "03999f3f",
   "metadata": {},
   "outputs": [
    {
     "name": "stdout",
     "output_type": "stream",
     "text": [
      "Epoch 1/100: Train Loss: 0.6984120886333116\n",
      "Epoch 2/100: Train Loss: 0.37658408260145604\n",
      "Epoch 3/100: Train Loss: 0.20896615325387793\n",
      "Epoch 4/100: Train Loss: 0.13335055435116958\n",
      "Epoch 5/100: Train Loss: 0.11048728246836521\n",
      "Epoch 6/100: Train Loss: 0.09946329512497668\n",
      "Epoch 7/100: Train Loss: 0.09283392046038026\n",
      "Epoch 8/100: Train Loss: 0.08852153206254723\n",
      "Epoch 9/100: Train Loss: 0.08531219286417871\n",
      "Epoch 10/100: Train Loss: 0.08271671865516182\n",
      "Epoch 11/100: Train Loss: 0.0805084082834039\n",
      "Epoch 12/100: Train Loss: 0.07856670482119812\n",
      "Epoch 13/100: Train Loss: 0.07682251194938303\n",
      "Epoch 14/100: Train Loss: 0.07523384311698357\n",
      "Epoch 15/100: Train Loss: 0.07377355493949667\n",
      "Epoch 16/100: Train Loss: 0.07242294737104696\n",
      "Epoch 17/100: Train Loss: 0.07116836376817401\n",
      "Epoch 18/100: Train Loss: 0.06999932917808133\n",
      "Epoch 19/100: Train Loss: 0.0689074840993852\n",
      "Epoch 20/100: Train Loss: 0.06788594105830838\n",
      "Epoch 21/100: Train Loss: 0.06692887594595237\n",
      "Epoch 22/100: Train Loss: 0.06603125659719221\n",
      "Epoch 23/100: Train Loss: 0.0651886557476463\n",
      "Epoch 24/100: Train Loss: 0.06439711814953526\n",
      "Epoch 25/100: Train Loss: 0.06365306367468704\n",
      "Epoch 26/100: Train Loss: 0.06295321506883643\n",
      "Epoch 27/100: Train Loss: 0.062294543180352116\n",
      "Epoch 28/100: Train Loss: 0.061674225160695\n",
      "Epoch 29/100: Train Loss: 0.06108961288032135\n",
      "Epoch 30/100: Train Loss: 0.060538209884555015\n",
      "Epoch 31/100: Train Loss: 0.060017655771014415\n",
      "Epoch 32/100: Train Loss: 0.0595257170190117\n",
      "Epoch 33/100: Train Loss: 0.05906028317577167\n",
      "Epoch 34/100: Train Loss: 0.05861936706380685\n",
      "Epoch 35/100: Train Loss: 0.05820110747647631\n",
      "Epoch 36/100: Train Loss: 0.057803772793892184\n",
      "Epoch 37/100: Train Loss: 0.05742576412587864\n",
      "Epoch 38/100: Train Loss: 0.05706561694236769\n",
      "Epoch 39/100: Train Loss: 0.056722000599012015\n",
      "Epoch 40/100: Train Loss: 0.056393715605039696\n",
      "Epoch 41/100: Train Loss: 0.05607968882988656\n",
      "Epoch 42/100: Train Loss: 0.05577896706243676\n",
      "Epoch 43/100: Train Loss: 0.055490709419798855\n",
      "Epoch 44/100: Train Loss: 0.055214179076977454\n",
      "Epoch 45/100: Train Loss: 0.054948734692359245\n",
      "Epoch 46/100: Train Loss: 0.054693821773543566\n",
      "Epoch 47/100: Train Loss: 0.0544489640937274\n",
      "Epoch 48/100: Train Loss: 0.0542137551517356\n",
      "Epoch 49/100: Train Loss: 0.053987849583099455\n",
      "Epoch 50/100: Train Loss: 0.053770954384783444\n",
      "Epoch 51/100: Train Loss: 0.05356281981868828\n",
      "Epoch 52/100: Train Loss: 0.05336322991202005\n",
      "Epoch 53/100: Train Loss: 0.05317199257409378\n",
      "Epoch 54/100: Train Loss: 0.052988929489217275\n",
      "Epoch 55/100: Train Loss: 0.05281386610344273\n",
      "Epoch 56/100: Train Loss: 0.052646622168205245\n",
      "Epoch 57/100: Train Loss: 0.052487003398963665\n",
      "Epoch 58/100: Train Loss: 0.0523347948179492\n",
      "Epoch 59/100: Train Loss: 0.052189756258019325\n",
      "Epoch 60/100: Train Loss: 0.05205162031563872\n",
      "Epoch 61/100: Train Loss: 0.05192009278849151\n",
      "Epoch 62/100: Train Loss: 0.05179485536970679\n",
      "Epoch 63/100: Train Loss: 0.05167557015110912\n",
      "Epoch 64/100: Train Loss: 0.051561885352424855\n",
      "Epoch 65/100: Train Loss: 0.05145344165637281\n",
      "Epoch 66/100: Train Loss: 0.05134987857984304\n",
      "Epoch 67/100: Train Loss: 0.05125084042104879\n",
      "Epoch 68/100: Train Loss: 0.05115598145904957\n",
      "Epoch 69/100: Train Loss: 0.05106497021789545\n",
      "Epoch 70/100: Train Loss: 0.05097749272489077\n",
      "Epoch 71/100: Train Loss: 0.05089325478279532\n",
      "Epoch 72/100: Train Loss: 0.05081198333801619\n",
      "Epoch 73/100: Train Loss: 0.0507334270640799\n",
      "Epoch 74/100: Train Loss: 0.05065735629676183\n",
      "Epoch 75/100: Train Loss: 0.05058356245944282\n",
      "Epoch 76/100: Train Loss: 0.05051185710930625\n",
      "Epoch 77/100: Train Loss: 0.05044207072085497\n",
      "Epoch 78/100: Train Loss: 0.050374051305979155\n",
      "Epoch 79/100: Train Loss: 0.050307662951712406\n",
      "Epoch 80/100: Train Loss: 0.0502427843393983\n",
      "Epoch 81/100: Train Loss: 0.050179307293182845\n",
      "Epoch 82/100: Train Loss: 0.05011713539206645\n",
      "Epoch 83/100: Train Loss: 0.0500561826683448\n",
      "Epoch 84/100: Train Loss: 0.04999637240608472\n",
      "Epoch 85/100: Train Loss: 0.04993763604617068\n",
      "Epoch 86/100: Train Loss: 0.04987991219909123\n",
      "Epoch 87/100: Train Loss: 0.04982314576281634\n",
      "Epoch 88/100: Train Loss: 0.0497672871404924\n",
      "Epoch 89/100: Train Loss: 0.04971229155104476\n",
      "Epoch 90/100: Train Loss: 0.0496581184248648\n",
      "Epoch 91/100: Train Loss: 0.04960473087641393\n",
      "Epoch 92/100: Train Loss: 0.049552095245615484\n",
      "Epoch 93/100: Train Loss: 0.049500180700216986\n",
      "Epoch 94/100: Train Loss: 0.04944895889179083\n",
      "Epoch 95/100: Train Loss: 0.049398403658627806\n",
      "Epoch 96/100: Train Loss: 0.049348490769403834\n",
      "Epoch 97/100: Train Loss: 0.04929919770214789\n",
      "Epoch 98/100: Train Loss: 0.04925050345365596\n",
      "Epoch 99/100: Train Loss: 0.04920238837507767\n",
      "Epoch 100/100: Train Loss: 0.04915483402995611\n"
     ]
    }
   ],
   "source": [
    "fit(X_train, 100)    "
   ]
  },
  {
   "cell_type": "code",
   "execution_count": 6,
   "id": "2a5e9c1d",
   "metadata": {},
   "outputs": [
    {
     "name": "stdout",
     "output_type": "stream",
     "text": [
      "Creating Function of type <class 'src.function._Sigmoid'> with name sigmoid_0\n",
      "Creating Function of type <class 'src.function._Sigmoid'> with name sigmoid_1\n"
     ]
    }
   ],
   "source": [
    "y_train_pred = predict(X_train)\n",
    "y_test_pred = predict(X_test)"
   ]
  },
  {
   "cell_type": "code",
   "execution_count": 7,
   "id": "ee5689f7",
   "metadata": {},
   "outputs": [
    {
     "ename": "ValueError",
     "evalue": "Expected array-like (array or non-string sequence), got Value(data=[1 0 0 1 0 1 0 0 0 1 1 0 0 0 0 1 1 1 0 1 1 1 0 1 1 0 1 1 1 1 1 1 1 0 0 0 0\n 1 1 1 1 1 0 1 1 0 1 1 1 1 0 1 1 0 1 1 1 1 0 0 1 1 1 0 1 1 1 0 0 1 1 0 0 1\n 0 1 1 1 1 1 1 1 1 1 1 1 0 1 1 0 1 1 1 0 0 1 1 1 1 1 0 1 0 1 1 1 0 1 1 1 0\n 1 1 1 0 0 0 0 0 1 0 1 1 1 1 0 1 1 1 0 0 0 0 0 0 0 1 1 1 0 1 1 0 0 1 0 1 0\n 0 1 1 1 1 1 1 0 0 1 0 1 1 1 1 0 0 0 1 0 0 1 1 1 1 1 0 1 1 1 0 1 0 1 0 0 1\n 0 0 0 0 1 1 0 1 1 1 1 1 1 0 1 1 1 1 0 1 0 1 0 1 0 1 0 1 1 1 0 1 0 1 1 1 0\n 0 0 1 0 1 1 1 1 0 1 1 1 0 0 1 1 0 1 1 1 1 0 1 0 0 0 0 0 1 0 1 1 0 1 1 0 1\n 0 0 1 0 1 1 1 0 1 1 1 1 1 0 1 1 1 1 1 1 1 1 1 0 0 1 1 1 0 0 0 0 0 0 0 1 0\n 0 1 1 0 0 1 0 1 0 1 0 0 1 1 1 1 1 1 1 1 1 0 1 0 1 1 0 0 1 1 1 0 0 1 1 1 0\n 0 0 1 0 1 1 1 0 0 1 0 1 1 1 1 0 1 1 0 1 1 1 1 1 0 1 0 1 1 1 0 1 0 0 1 1 1\n 1 1 0 1 1 1 1 1 1 1 1 1 1 1 1 0 1 1 0 1 1 0 1 0 1 0 1 1 1 1 1 0 1 1 1 1 0\n 0 1 1 1 0 0 1 1 0 1 1 1 1 0 0 1 1 1 1], shape=(426,), name=y_train, requires_grad=False), dtype=int32",
     "output_type": "error",
     "traceback": [
      "\u001b[1;31m---------------------------------------------------------------------------\u001b[0m",
      "\u001b[1;31mValueError\u001b[0m                                Traceback (most recent call last)",
      "Cell \u001b[1;32mIn[7], line 18\u001b[0m\n\u001b[0;32m     15\u001b[0m     \u001b[38;5;28mprint\u001b[39m(\u001b[38;5;124mf\u001b[39m\u001b[38;5;124m\"\u001b[39m\u001b[38;5;124mMCC score: \u001b[39m\u001b[38;5;132;01m{\u001b[39;00mmcc\u001b[38;5;132;01m}\u001b[39;00m\u001b[38;5;124m\"\u001b[39m)\n\u001b[0;32m     16\u001b[0m     \u001b[38;5;28mprint\u001b[39m(\u001b[38;5;124mf\u001b[39m\u001b[38;5;124m\"\u001b[39m\u001b[38;5;124mF1-Score: \u001b[39m\u001b[38;5;132;01m{\u001b[39;00m(tp)\u001b[38;5;241m/\u001b[39m(tp\u001b[38;5;241m+\u001b[39m(fp\u001b[38;5;241m+\u001b[39mfn)\u001b[38;5;241m/\u001b[39m\u001b[38;5;241m2\u001b[39m)\u001b[38;5;132;01m}\u001b[39;00m\u001b[38;5;130;01m\\n\u001b[39;00m\u001b[38;5;124m\"\u001b[39m)\n\u001b[1;32m---> 18\u001b[0m print_metrics(y_train, y_train_pred)\n\u001b[0;32m     19\u001b[0m \u001b[38;5;28mprint\u001b[39m(\u001b[38;5;124m\"\u001b[39m\u001b[38;5;124m\"\u001b[39m)\n\u001b[0;32m     20\u001b[0m print_metrics(y_test, y_test_pred)\n",
      "Cell \u001b[1;32mIn[7], line 4\u001b[0m, in \u001b[0;36mprint_metrics\u001b[1;34m(y_true, y_pred)\u001b[0m\n\u001b[0;32m      3\u001b[0m \u001b[38;5;28;01mdef\u001b[39;00m \u001b[38;5;21mprint_metrics\u001b[39m(y_true, y_pred):\n\u001b[1;32m----> 4\u001b[0m     conf_matrix \u001b[38;5;241m=\u001b[39m confusion_matrix(y_true, y_pred)\n\u001b[0;32m      5\u001b[0m     tn, fp, fn, tp \u001b[38;5;241m=\u001b[39m conf_matrix\u001b[38;5;241m.\u001b[39mravel()\n\u001b[0;32m      6\u001b[0m     fpr, tpr, thresholds \u001b[38;5;241m=\u001b[39m roc_curve(y_true, y_pred)\n",
      "File \u001b[1;32mC:\\ProgramData\\anaconda3\\Lib\\site-packages\\sklearn\\utils\\_param_validation.py:211\u001b[0m, in \u001b[0;36mvalidate_params.<locals>.decorator.<locals>.wrapper\u001b[1;34m(*args, **kwargs)\u001b[0m\n\u001b[0;32m    205\u001b[0m \u001b[38;5;28;01mtry\u001b[39;00m:\n\u001b[0;32m    206\u001b[0m     \u001b[38;5;28;01mwith\u001b[39;00m config_context(\n\u001b[0;32m    207\u001b[0m         skip_parameter_validation\u001b[38;5;241m=\u001b[39m(\n\u001b[0;32m    208\u001b[0m             prefer_skip_nested_validation \u001b[38;5;129;01mor\u001b[39;00m global_skip_validation\n\u001b[0;32m    209\u001b[0m         )\n\u001b[0;32m    210\u001b[0m     ):\n\u001b[1;32m--> 211\u001b[0m         \u001b[38;5;28;01mreturn\u001b[39;00m func(\u001b[38;5;241m*\u001b[39margs, \u001b[38;5;241m*\u001b[39m\u001b[38;5;241m*\u001b[39mkwargs)\n\u001b[0;32m    212\u001b[0m \u001b[38;5;28;01mexcept\u001b[39;00m InvalidParameterError \u001b[38;5;28;01mas\u001b[39;00m e:\n\u001b[0;32m    213\u001b[0m     \u001b[38;5;66;03m# When the function is just a wrapper around an estimator, we allow\u001b[39;00m\n\u001b[0;32m    214\u001b[0m     \u001b[38;5;66;03m# the function to delegate validation to the estimator, but we replace\u001b[39;00m\n\u001b[0;32m    215\u001b[0m     \u001b[38;5;66;03m# the name of the estimator by the name of the function in the error\u001b[39;00m\n\u001b[0;32m    216\u001b[0m     \u001b[38;5;66;03m# message to avoid confusion.\u001b[39;00m\n\u001b[0;32m    217\u001b[0m     msg \u001b[38;5;241m=\u001b[39m re\u001b[38;5;241m.\u001b[39msub(\n\u001b[0;32m    218\u001b[0m         \u001b[38;5;124mr\u001b[39m\u001b[38;5;124m\"\u001b[39m\u001b[38;5;124mparameter of \u001b[39m\u001b[38;5;124m\\\u001b[39m\u001b[38;5;124mw+ must be\u001b[39m\u001b[38;5;124m\"\u001b[39m,\n\u001b[0;32m    219\u001b[0m         \u001b[38;5;124mf\u001b[39m\u001b[38;5;124m\"\u001b[39m\u001b[38;5;124mparameter of \u001b[39m\u001b[38;5;132;01m{\u001b[39;00mfunc\u001b[38;5;241m.\u001b[39m\u001b[38;5;18m__qualname__\u001b[39m\u001b[38;5;132;01m}\u001b[39;00m\u001b[38;5;124m must be\u001b[39m\u001b[38;5;124m\"\u001b[39m,\n\u001b[0;32m    220\u001b[0m         \u001b[38;5;28mstr\u001b[39m(e),\n\u001b[0;32m    221\u001b[0m     )\n",
      "File \u001b[1;32mC:\\ProgramData\\anaconda3\\Lib\\site-packages\\sklearn\\metrics\\_classification.py:326\u001b[0m, in \u001b[0;36mconfusion_matrix\u001b[1;34m(y_true, y_pred, labels, sample_weight, normalize)\u001b[0m\n\u001b[0;32m    231\u001b[0m \u001b[38;5;129m@validate_params\u001b[39m(\n\u001b[0;32m    232\u001b[0m     {\n\u001b[0;32m    233\u001b[0m         \u001b[38;5;124m\"\u001b[39m\u001b[38;5;124my_true\u001b[39m\u001b[38;5;124m\"\u001b[39m: [\u001b[38;5;124m\"\u001b[39m\u001b[38;5;124marray-like\u001b[39m\u001b[38;5;124m\"\u001b[39m],\n\u001b[1;32m   (...)\u001b[0m\n\u001b[0;32m    242\u001b[0m     y_true, y_pred, \u001b[38;5;241m*\u001b[39m, labels\u001b[38;5;241m=\u001b[39m\u001b[38;5;28;01mNone\u001b[39;00m, sample_weight\u001b[38;5;241m=\u001b[39m\u001b[38;5;28;01mNone\u001b[39;00m, normalize\u001b[38;5;241m=\u001b[39m\u001b[38;5;28;01mNone\u001b[39;00m\n\u001b[0;32m    243\u001b[0m ):\n\u001b[0;32m    244\u001b[0m \u001b[38;5;250m    \u001b[39m\u001b[38;5;124;03m\"\"\"Compute confusion matrix to evaluate the accuracy of a classification.\u001b[39;00m\n\u001b[0;32m    245\u001b[0m \n\u001b[0;32m    246\u001b[0m \u001b[38;5;124;03m    By definition a confusion matrix :math:`C` is such that :math:`C_{i, j}`\u001b[39;00m\n\u001b[1;32m   (...)\u001b[0m\n\u001b[0;32m    324\u001b[0m \u001b[38;5;124;03m    (0, 2, 1, 1)\u001b[39;00m\n\u001b[0;32m    325\u001b[0m \u001b[38;5;124;03m    \"\"\"\u001b[39;00m\n\u001b[1;32m--> 326\u001b[0m     y_type, y_true, y_pred \u001b[38;5;241m=\u001b[39m _check_targets(y_true, y_pred)\n\u001b[0;32m    327\u001b[0m     \u001b[38;5;28;01mif\u001b[39;00m y_type \u001b[38;5;129;01mnot\u001b[39;00m \u001b[38;5;129;01min\u001b[39;00m (\u001b[38;5;124m\"\u001b[39m\u001b[38;5;124mbinary\u001b[39m\u001b[38;5;124m\"\u001b[39m, \u001b[38;5;124m\"\u001b[39m\u001b[38;5;124mmulticlass\u001b[39m\u001b[38;5;124m\"\u001b[39m):\n\u001b[0;32m    328\u001b[0m         \u001b[38;5;28;01mraise\u001b[39;00m \u001b[38;5;167;01mValueError\u001b[39;00m(\u001b[38;5;124m\"\u001b[39m\u001b[38;5;132;01m%s\u001b[39;00m\u001b[38;5;124m is not supported\u001b[39m\u001b[38;5;124m\"\u001b[39m \u001b[38;5;241m%\u001b[39m y_type)\n",
      "File \u001b[1;32mC:\\ProgramData\\anaconda3\\Lib\\site-packages\\sklearn\\metrics\\_classification.py:85\u001b[0m, in \u001b[0;36m_check_targets\u001b[1;34m(y_true, y_pred)\u001b[0m\n\u001b[0;32m     58\u001b[0m \u001b[38;5;250m\u001b[39m\u001b[38;5;124;03m\"\"\"Check that y_true and y_pred belong to the same classification task.\u001b[39;00m\n\u001b[0;32m     59\u001b[0m \n\u001b[0;32m     60\u001b[0m \u001b[38;5;124;03mThis converts multiclass or binary types to a common shape, and raises a\u001b[39;00m\n\u001b[1;32m   (...)\u001b[0m\n\u001b[0;32m     82\u001b[0m \u001b[38;5;124;03my_pred : array or indicator matrix\u001b[39;00m\n\u001b[0;32m     83\u001b[0m \u001b[38;5;124;03m\"\"\"\u001b[39;00m\n\u001b[0;32m     84\u001b[0m check_consistent_length(y_true, y_pred)\n\u001b[1;32m---> 85\u001b[0m type_true \u001b[38;5;241m=\u001b[39m type_of_target(y_true, input_name\u001b[38;5;241m=\u001b[39m\u001b[38;5;124m\"\u001b[39m\u001b[38;5;124my_true\u001b[39m\u001b[38;5;124m\"\u001b[39m)\n\u001b[0;32m     86\u001b[0m type_pred \u001b[38;5;241m=\u001b[39m type_of_target(y_pred, input_name\u001b[38;5;241m=\u001b[39m\u001b[38;5;124m\"\u001b[39m\u001b[38;5;124my_pred\u001b[39m\u001b[38;5;124m\"\u001b[39m)\n\u001b[0;32m     88\u001b[0m y_type \u001b[38;5;241m=\u001b[39m {type_true, type_pred}\n",
      "File \u001b[1;32mC:\\ProgramData\\anaconda3\\Lib\\site-packages\\sklearn\\utils\\multiclass.py:302\u001b[0m, in \u001b[0;36mtype_of_target\u001b[1;34m(y, input_name)\u001b[0m\n\u001b[0;32m    295\u001b[0m valid \u001b[38;5;241m=\u001b[39m (\n\u001b[0;32m    296\u001b[0m     (\u001b[38;5;28misinstance\u001b[39m(y, Sequence) \u001b[38;5;129;01mor\u001b[39;00m issparse(y) \u001b[38;5;129;01mor\u001b[39;00m \u001b[38;5;28mhasattr\u001b[39m(y, \u001b[38;5;124m\"\u001b[39m\u001b[38;5;124m__array__\u001b[39m\u001b[38;5;124m\"\u001b[39m))\n\u001b[0;32m    297\u001b[0m     \u001b[38;5;129;01mand\u001b[39;00m \u001b[38;5;129;01mnot\u001b[39;00m \u001b[38;5;28misinstance\u001b[39m(y, \u001b[38;5;28mstr\u001b[39m)\n\u001b[0;32m    298\u001b[0m     \u001b[38;5;129;01mor\u001b[39;00m is_array_api_compliant\n\u001b[0;32m    299\u001b[0m )\n\u001b[0;32m    301\u001b[0m \u001b[38;5;28;01mif\u001b[39;00m \u001b[38;5;129;01mnot\u001b[39;00m valid:\n\u001b[1;32m--> 302\u001b[0m     \u001b[38;5;28;01mraise\u001b[39;00m \u001b[38;5;167;01mValueError\u001b[39;00m(\n\u001b[0;32m    303\u001b[0m         \u001b[38;5;124m\"\u001b[39m\u001b[38;5;124mExpected array-like (array or non-string sequence), got \u001b[39m\u001b[38;5;132;01m%r\u001b[39;00m\u001b[38;5;124m\"\u001b[39m \u001b[38;5;241m%\u001b[39m y\n\u001b[0;32m    304\u001b[0m     )\n\u001b[0;32m    306\u001b[0m sparse_pandas \u001b[38;5;241m=\u001b[39m y\u001b[38;5;241m.\u001b[39m\u001b[38;5;18m__class__\u001b[39m\u001b[38;5;241m.\u001b[39m\u001b[38;5;18m__name__\u001b[39m \u001b[38;5;129;01min\u001b[39;00m [\u001b[38;5;124m\"\u001b[39m\u001b[38;5;124mSparseSeries\u001b[39m\u001b[38;5;124m\"\u001b[39m, \u001b[38;5;124m\"\u001b[39m\u001b[38;5;124mSparseArray\u001b[39m\u001b[38;5;124m\"\u001b[39m]\n\u001b[0;32m    307\u001b[0m \u001b[38;5;28;01mif\u001b[39;00m sparse_pandas:\n",
      "\u001b[1;31mValueError\u001b[0m: Expected array-like (array or non-string sequence), got Value(data=[1 0 0 1 0 1 0 0 0 1 1 0 0 0 0 1 1 1 0 1 1 1 0 1 1 0 1 1 1 1 1 1 1 0 0 0 0\n 1 1 1 1 1 0 1 1 0 1 1 1 1 0 1 1 0 1 1 1 1 0 0 1 1 1 0 1 1 1 0 0 1 1 0 0 1\n 0 1 1 1 1 1 1 1 1 1 1 1 0 1 1 0 1 1 1 0 0 1 1 1 1 1 0 1 0 1 1 1 0 1 1 1 0\n 1 1 1 0 0 0 0 0 1 0 1 1 1 1 0 1 1 1 0 0 0 0 0 0 0 1 1 1 0 1 1 0 0 1 0 1 0\n 0 1 1 1 1 1 1 0 0 1 0 1 1 1 1 0 0 0 1 0 0 1 1 1 1 1 0 1 1 1 0 1 0 1 0 0 1\n 0 0 0 0 1 1 0 1 1 1 1 1 1 0 1 1 1 1 0 1 0 1 0 1 0 1 0 1 1 1 0 1 0 1 1 1 0\n 0 0 1 0 1 1 1 1 0 1 1 1 0 0 1 1 0 1 1 1 1 0 1 0 0 0 0 0 1 0 1 1 0 1 1 0 1\n 0 0 1 0 1 1 1 0 1 1 1 1 1 0 1 1 1 1 1 1 1 1 1 0 0 1 1 1 0 0 0 0 0 0 0 1 0\n 0 1 1 0 0 1 0 1 0 1 0 0 1 1 1 1 1 1 1 1 1 0 1 0 1 1 0 0 1 1 1 0 0 1 1 1 0\n 0 0 1 0 1 1 1 0 0 1 0 1 1 1 1 0 1 1 0 1 1 1 1 1 0 1 0 1 1 1 0 1 0 0 1 1 1\n 1 1 0 1 1 1 1 1 1 1 1 1 1 1 1 0 1 1 0 1 1 0 1 0 1 0 1 1 1 1 1 0 1 1 1 1 0\n 0 1 1 1 0 0 1 1 0 1 1 1 1 0 0 1 1 1 1], shape=(426,), name=y_train, requires_grad=False), dtype=int32"
     ]
    }
   ],
   "source": [
    "from sklearn.metrics import confusion_matrix, ConfusionMatrixDisplay, auc, roc_curve, matthews_corrcoef\n",
    "\n",
    "def print_metrics(y_true, y_pred):\n",
    "    conf_matrix = confusion_matrix(y_true, y_pred)\n",
    "    tn, fp, fn, tp = conf_matrix.ravel()\n",
    "    fpr, tpr, thresholds = roc_curve(y_true, y_pred)\n",
    "    mcc = matthews_corrcoef(y_true, y_pred)    \n",
    "\n",
    "    print(f\"Confusion Matrix\")\n",
    "    print(f\"{conf_matrix}\\n\")\n",
    "    print(f\"Accuracy: {(tp + tn)/(tp + tn + fn + fp)}\")\n",
    "    print(f\"Precision: {tp / (tp + fp)}\")\n",
    "    print(f\"Recall: {tp / (tp + fn)}\")\n",
    "    print(f\"AUC score: {auc(fpr, tpr)}\")\n",
    "    print(f\"MCC score: {mcc}\")\n",
    "    print(f\"F1-Score: {(tp)/(tp+(fp+fn)/2)}\\n\")\n",
    "    \n",
    "print_metrics(y_train.value, y_train_pred)\n",
    "print(\"\")\n",
    "print_metrics(y_test.value, y_test_pred)"
   ]
  }
 ],
 "metadata": {
  "kernelspec": {
   "display_name": "Python 3 (ipykernel)",
   "language": "python",
   "name": "python3"
  },
  "language_info": {
   "codemirror_mode": {
    "name": "ipython",
    "version": 3
   },
   "file_extension": ".py",
   "mimetype": "text/x-python",
   "name": "python",
   "nbconvert_exporter": "python",
   "pygments_lexer": "ipython3",
   "version": "3.11.4"
  }
 },
 "nbformat": 4,
 "nbformat_minor": 5
}
