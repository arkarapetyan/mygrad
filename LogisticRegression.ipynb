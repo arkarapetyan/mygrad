{
 "cells": [
  {
   "cell_type": "code",
   "execution_count": 1,
   "id": "initial_id",
   "metadata": {},
   "outputs": [],
   "source": [
    "from src.value import Value\n",
    "import src.function as F\n",
    "import numpy as np"
   ]
  },
  {
   "cell_type": "code",
   "execution_count": 2,
   "id": "79eba654",
   "metadata": {},
   "outputs": [],
   "source": [
    "from sklearn.datasets import load_breast_cancer\n",
    "from sklearn.preprocessing import StandardScaler\n",
    "from sklearn.model_selection import train_test_split\n",
    "\n",
    "X, y = load_breast_cancer(return_X_y = True)\n",
    "X_train, X_test, y_train, y_test = train_test_split(X, y)\n",
    "\n",
    "scaler = StandardScaler()\n",
    "X_train = scaler.fit_transform(X_train)\n",
    "X_test = scaler.transform(X_test)\n",
    "\n",
    "X_train = Value(X_train, \"x_train\", requires_grad=False)\n",
    "X_test = Value(X_test, \"x_test\", requires_grad=False)\n",
    "y_train = Value(y_train, \"y_train\", requires_grad=False)\n",
    "y_test = Value(y_test, \"y_test\", requires_grad=False)"
   ]
  },
  {
   "cell_type": "code",
   "execution_count": 3,
   "id": "aa9a59fd",
   "metadata": {},
   "outputs": [],
   "source": [
    "w = Value(np.random.randn(X.shape[1]) * 10**(-2), \"w\", requires_grad = True)\n",
    "b = Value([0.0], \"b\", requires_grad = True)"
   ]
  },
  {
   "cell_type": "code",
   "execution_count": 4,
   "id": "a8a028fc",
   "metadata": {},
   "outputs": [
    {
     "name": "stdout",
     "output_type": "stream",
     "text": [
      "Creating Function of type <class 'src.function._Matmul'> with name matmul_0\n",
      "Creating Function of type <class 'src.function._Add'> with name add_0\n",
      "Creating Function of type <class 'src.function._BCELossWithLogits'> with name bce_loss_logit_0\n"
     ]
    }
   ],
   "source": [
    "lr = 0.01\n",
    "\n",
    "matmul1 = F._FunctionFactory().get_new_function_of_type(F._Matmul)\n",
    "add1 = F._FunctionFactory().get_new_function_of_type(F._Add)\n",
    "loss = F._FunctionFactory().get_new_function_of_type(F._BCELossWithLogits)\n",
    "    \n",
    "def fit(X, num_epoch):     \n",
    "    for i in range(num_epoch):\n",
    "        \n",
    "        y = add1.forward(matmul1.forward(X, w), b)\n",
    "        l = loss.forward(y, y_train)\n",
    "        loss.backward()\n",
    "        w.value -= lr * w.grad\n",
    "        b.value -= lr * b.grad\n",
    "        l.zero_grad()   \n",
    "        \n",
    "        # if i % 10:\n",
    "        print(f\"Epoch {i+1}/{num_epoch}: Train Loss: {l.value}\")\n",
    "\n",
    "def predict(X):\n",
    "    y = add1.forward(matmul1.forward(X, w), b)\n",
    "    y_pred = F.sigmoid(y).value > 0.5\n",
    "    \n",
    "    return y_pred"
   ]
  },
  {
   "cell_type": "code",
   "execution_count": 5,
   "id": "05ccf6e0",
   "metadata": {},
   "outputs": [
    {
     "name": "stdout",
     "output_type": "stream",
     "text": [
      "Epoch 1/100: Train Loss: 0.7051148382969286\n",
      "Epoch 2/100: Train Loss: 0.3472942175188646\n",
      "Epoch 3/100: Train Loss: 0.17740595717207752\n",
      "Epoch 4/100: Train Loss: 0.10905738619447392\n",
      "Epoch 5/100: Train Loss: 0.09655378235925857\n",
      "Epoch 6/100: Train Loss: 0.08884531424639686\n",
      "Epoch 7/100: Train Loss: 0.08418212799123365\n",
      "Epoch 8/100: Train Loss: 0.08106300885517237\n",
      "Epoch 9/100: Train Loss: 0.07874253561456618\n",
      "Epoch 10/100: Train Loss: 0.07689010185825322\n",
      "Epoch 11/100: Train Loss: 0.07533915467005417\n",
      "Epoch 12/100: Train Loss: 0.07399643063486572\n",
      "Epoch 13/100: Train Loss: 0.07280619625894955\n",
      "Epoch 14/100: Train Loss: 0.07173337431692178\n",
      "Epoch 15/100: Train Loss: 0.07075467286585571\n",
      "Epoch 16/100: Train Loss: 0.0698537605819889\n",
      "Epoch 17/100: Train Loss: 0.06901861441210733\n",
      "Epoch 18/100: Train Loss: 0.06824003056308256\n",
      "Epoch 19/100: Train Loss: 0.06751075390334563\n",
      "Epoch 20/100: Train Loss: 0.0668249398871715\n",
      "Epoch 21/100: Train Loss: 0.06617780165825228\n",
      "Epoch 22/100: Train Loss: 0.06556536599592865\n",
      "Epoch 23/100: Train Loss: 0.0649842973618128\n",
      "Epoch 24/100: Train Loss: 0.06443176716826252\n",
      "Epoch 25/100: Train Loss: 0.06390535457583547\n",
      "Epoch 26/100: Train Loss: 0.06340297007077304\n",
      "Epoch 27/100: Train Loss: 0.06292279590479401\n",
      "Epoch 28/100: Train Loss: 0.062463239215766984\n",
      "Epoch 29/100: Train Loss: 0.06202289478344708\n",
      "Epoch 30/100: Train Loss: 0.06160051515792893\n",
      "Epoch 31/100: Train Loss: 0.06119498645996944\n",
      "Epoch 32/100: Train Loss: 0.06080530856674968\n",
      "Epoch 33/100: Train Loss: 0.06043057870799248\n",
      "Epoch 34/100: Train Loss: 0.060069977734740876\n",
      "Epoch 35/100: Train Loss: 0.05972275850580104\n",
      "Epoch 36/100: Train Loss: 0.059388235978280385\n",
      "Epoch 37/100: Train Loss: 0.05906577869812193\n",
      "Epoch 38/100: Train Loss: 0.058754801470342705\n",
      "Epoch 39/100: Train Loss: 0.05845475905181613\n",
      "Epoch 40/100: Train Loss: 0.058165140754528305\n",
      "Epoch 41/100: Train Loss: 0.05788546587742346\n",
      "Epoch 42/100: Train Loss: 0.05761527990211261\n",
      "Epoch 43/100: Train Loss: 0.05735415139455003\n",
      "Epoch 44/100: Train Loss: 0.057101669553684224\n",
      "Epoch 45/100: Train Loss: 0.05685744234219872\n",
      "Epoch 46/100: Train Loss: 0.05662109512637374\n",
      "Epoch 47/100: Train Loss: 0.05639226974476836\n",
      "Epoch 48/100: Train Loss: 0.056170623920757605\n",
      "Epoch 49/100: Train Loss: 0.05595583093344194\n",
      "Epoch 50/100: Train Loss: 0.05574757946542485\n",
      "Epoch 51/100: Train Loss: 0.055545573554130825\n",
      "Epoch 52/100: Train Loss: 0.05534953258465593\n",
      "Epoch 53/100: Train Loss: 0.05515919127534411\n",
      "Epoch 54/100: Train Loss: 0.05497429962086923\n",
      "Epoch 55/100: Train Loss: 0.05479462277037339\n",
      "Epoch 56/100: Train Loss: 0.05461994082927923\n",
      "Epoch 57/100: Train Loss: 0.05445004858220763\n",
      "Epoch 58/100: Train Loss: 0.054284755140745024\n",
      "Epoch 59/100: Train Loss: 0.054123883523868696\n",
      "Epoch 60/100: Train Loss: 0.05396727018080327\n",
      "Epoch 61/100: Train Loss: 0.053814764466396506\n",
      "Epoch 62/100: Train Loss: 0.05366622807826644\n",
      "Epoch 63/100: Train Loss: 0.05352153446323057\n",
      "Epoch 64/100: Train Loss: 0.053380568198409376\n",
      "Epoch 65/100: Train Loss: 0.05324322435007001\n",
      "Epoch 66/100: Train Loss: 0.05310940781104478\n",
      "Epoch 67/100: Train Loss: 0.052979032615613826\n",
      "Epoch 68/100: Train Loss: 0.05285202122920676\n",
      "Epoch 69/100: Train Loss: 0.052728303809323945\n",
      "Epoch 70/100: Train Loss: 0.0526078174337657\n",
      "Epoch 71/100: Train Loss: 0.052490505292717975\n",
      "Epoch 72/100: Train Loss: 0.05237631584246116\n",
      "Epoch 73/100: Train Loss: 0.05226520192055035\n",
      "Epoch 74/100: Train Loss: 0.0521571198251127\n",
      "Epoch 75/100: Train Loss: 0.05205202836444482\n",
      "Epoch 76/100: Train Loss: 0.05194988788705385\n",
      "Epoch 77/100: Train Loss: 0.05185065930653746\n",
      "Epoch 78/100: Train Loss: 0.05175430313978918\n",
      "Epoch 79/100: Train Loss: 0.051660778580613645\n",
      "Epoch 80/100: Train Loss: 0.051570042633481465\n",
      "Epoch 81/100: Train Loss: 0.05148204933345713\n",
      "Epoch 82/100: Train Loss: 0.05139674907792392\n",
      "Epoch 83/100: Train Loss: 0.05131408809351571\n",
      "Epoch 84/100: Train Loss: 0.051234008057500356\n",
      "Epoch 85/100: Train Loss: 0.05115644588705489\n",
      "Epoch 86/100: Train Loss: 0.05108133370278634\n",
      "Epoch 87/100: Train Loss: 0.05100859896498828\n",
      "Epoch 88/100: Train Loss: 0.05093816477323039\n",
      "Epoch 89/100: Train Loss: 0.05086995031255017\n",
      "Epoch 90/100: Train Loss: 0.05080387142337042\n",
      "Epoch 91/100: Train Loss: 0.05073984126775306\n",
      "Epoch 92/100: Train Loss: 0.0506777710620032\n",
      "Epoch 93/100: Train Loss: 0.050617570844968464\n",
      "Epoch 94/100: Train Loss: 0.050559150252545884\n",
      "Epoch 95/100: Train Loss: 0.050502419271621045\n",
      "Epoch 96/100: Train Loss: 0.05044728895050584\n",
      "Epoch 97/100: Train Loss: 0.050393672047532014\n",
      "Epoch 98/100: Train Loss: 0.050341483604362726\n",
      "Epoch 99/100: Train Loss: 0.05029064143541314\n",
      "Epoch 100/100: Train Loss: 0.050241066529276485\n"
     ]
    }
   ],
   "source": [
    "fit(X_train, 100)    "
   ]
  },
  {
   "cell_type": "code",
   "execution_count": 6,
   "id": "7ef75d7b",
   "metadata": {},
   "outputs": [
    {
     "name": "stdout",
     "output_type": "stream",
     "text": [
      "Creating Function of type <class 'src.function._Sigmoid'> with name sigmoid_0\n",
      "Creating Function of type <class 'src.function._Sigmoid'> with name sigmoid_1\n"
     ]
    }
   ],
   "source": [
    "y_train_pred = predict(X_train)\n",
    "y_test_pred = predict(X_test)"
   ]
  },
  {
   "cell_type": "code",
   "execution_count": 7,
   "id": "f5e145e5",
   "metadata": {},
   "outputs": [
    {
     "name": "stdout",
     "output_type": "stream",
     "text": [
      "Confusion Matrix\n",
      "[[156   4]\n",
      " [  0 266]]\n",
      "\n",
      "Accuracy: 0.9906103286384976\n",
      "Precision: 0.9851851851851852\n",
      "Recall: 1.0\n",
      "AUC score: 0.9874999999999999\n",
      "MCC score: 0.9800793618659437\n",
      "F1-Score: 0.9925373134328358\n",
      "\n",
      "\n",
      "Confusion Matrix\n",
      "[[51  1]\n",
      " [ 2 89]]\n",
      "\n",
      "Accuracy: 0.9790209790209791\n",
      "Precision: 0.9888888888888889\n",
      "Recall: 0.978021978021978\n",
      "AUC score: 0.9793956043956045\n",
      "MCC score: 0.9549644877199515\n",
      "F1-Score: 0.9834254143646409\n",
      "\n"
     ]
    }
   ],
   "source": [
    "from sklearn.metrics import confusion_matrix, ConfusionMatrixDisplay, auc, roc_curve, matthews_corrcoef\n",
    "\n",
    "def print_metrics(y_true, y_pred):\n",
    "    conf_matrix = confusion_matrix(y_true, y_pred)\n",
    "    tn, fp, fn, tp = conf_matrix.ravel()\n",
    "    fpr, tpr, thresholds = roc_curve(y_true, y_pred)\n",
    "    mcc = matthews_corrcoef(y_true, y_pred)    \n",
    "\n",
    "    print(f\"Confusion Matrix\")\n",
    "    print(f\"{conf_matrix}\\n\")\n",
    "    print(f\"Accuracy: {(tp + tn)/(tp + tn + fn + fp)}\")\n",
    "    print(f\"Precision: {tp / (tp + fp)}\")\n",
    "    print(f\"Recall: {tp / (tp + fn)}\")\n",
    "    print(f\"AUC score: {auc(fpr, tpr)}\")\n",
    "    print(f\"MCC score: {mcc}\")\n",
    "    print(f\"F1-Score: {(tp)/(tp+(fp+fn)/2)}\\n\")\n",
    "    \n",
    "print_metrics(y_train.value, y_train_pred)\n",
    "print(\"\")\n",
    "print_metrics(y_test.value, y_test_pred)"
   ]
  },
  {
   "cell_type": "code",
   "execution_count": null,
   "id": "646c76ec",
   "metadata": {},
   "outputs": [],
   "source": []
  }
 ],
 "metadata": {
  "kernelspec": {
   "display_name": "Python 3 (ipykernel)",
   "language": "python",
   "name": "python3"
  },
  "language_info": {
   "codemirror_mode": {
    "name": "ipython",
    "version": 3
   },
   "file_extension": ".py",
   "mimetype": "text/x-python",
   "name": "python",
   "nbconvert_exporter": "python",
   "pygments_lexer": "ipython3",
   "version": "3.11.4"
  }
 },
 "nbformat": 4,
 "nbformat_minor": 5
}
