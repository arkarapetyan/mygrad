{
 "cells": [
  {
   "cell_type": "code",
   "execution_count": 1,
   "id": "initial_id",
   "metadata": {},
   "outputs": [],
   "source": [
    "from src.value import Value\n",
    "import src.function as F\n",
    "import numpy as np"
   ]
  },
  {
   "cell_type": "code",
   "execution_count": 2,
   "id": "79eba654",
   "metadata": {},
   "outputs": [],
   "source": [
    "from sklearn.datasets import load_breast_cancer\n",
    "from sklearn.preprocessing import StandardScaler\n",
    "from sklearn.model_selection import train_test_split\n",
    "\n",
    "X, y = load_breast_cancer(return_X_y = True)\n",
    "X_train, X_test, y_train, y_test = train_test_split(X, y)\n",
    "\n",
    "scaler = StandardScaler()\n",
    "X_train = scaler.fit_transform(X_train)\n",
    "X_test = scaler.transform(X_test)\n",
    "\n",
    "X_train = Value(X_train, \"x_train\", requires_grad=False)\n",
    "X_test = Value(X_test, \"x_test\", requires_grad=False)\n",
    "y_train = Value(y_train, \"y_train\", requires_grad=False)\n",
    "y_test = Value(y_test, \"y_test\", requires_grad=False)"
   ]
  },
  {
   "cell_type": "code",
   "execution_count": 3,
   "id": "aa9a59fd",
   "metadata": {},
   "outputs": [],
   "source": [
    "w = Value(np.random.randn(X.shape[1]) * 10**(-2), \"w\", requires_grad = True)\n",
    "b = Value([0.0], \"b\", requires_grad = True)"
   ]
  },
  {
   "cell_type": "code",
   "execution_count": 4,
   "id": "a8a028fc",
   "metadata": {},
   "outputs": [
    {
     "name": "stdout",
     "output_type": "stream",
     "text": [
      "Creating Function of type <class 'src.function._Matmul'> with name matmul_0\n",
      "Creating Function of type <class 'src.function._Add'> with name add_0\n",
      "Creating Function of type <class 'src.function._BCELossWithLogits'> with name bce_loss_logit_0\n"
     ]
    }
   ],
   "source": [
    "lr = 0.01\n",
    "\n",
    "matmul1 = F._FunctionFactory().get_new_function_of_type(F._Matmul)\n",
    "add1 = F._FunctionFactory().get_new_function_of_type(F._Add)\n",
    "loss = F._FunctionFactory().get_new_function_of_type(F._BCELossWithLogits)\n",
    "    \n",
    "def fit(num_epoch):     \n",
    "    for i in range(num_epoch):\n",
    "        \n",
    "        y = add1.forward(matmul1.forward(X_train, w), b)\n",
    "        l = loss.forward(y, y_train)\n",
    "        loss.backward()\n",
    "        w.value -= lr * w.grad\n",
    "        b.value -= lr * b.grad\n",
    "        l.zero_grad()   \n",
    "        \n",
    "        # if i % 10:\n",
    "        print(f\"Epoch {i+1}/{num_epoch}: Train Loss: {l.value}\")\n",
    "\n",
    "def predict(X):\n",
    "    y = add1.forward(matmul1.forward(X, w), b)\n",
    "    y_pred = F.sigmoid(y).value > 0.5\n",
    "    \n",
    "    return y_pred"
   ]
  },
  {
   "cell_type": "code",
   "execution_count": 5,
   "id": "05ccf6e0",
   "metadata": {},
   "outputs": [
    {
     "name": "stdout",
     "output_type": "stream",
     "text": [
      "Epoch 1/100: Train Loss: 0.6900616480942278\n",
      "Epoch 2/100: Train Loss: 0.38183126977025655\n",
      "Epoch 3/100: Train Loss: 0.20690998694325233\n",
      "Epoch 4/100: Train Loss: 0.13204083009061715\n",
      "Epoch 5/100: Train Loss: 0.11339020508807555\n",
      "Epoch 6/100: Train Loss: 0.10256951880652228\n",
      "Epoch 7/100: Train Loss: 0.09614503144070978\n",
      "Epoch 8/100: Train Loss: 0.09169547931190815\n",
      "Epoch 9/100: Train Loss: 0.0882365151401027\n",
      "Epoch 10/100: Train Loss: 0.08536802302285386\n",
      "Epoch 11/100: Train Loss: 0.08289853795534625\n",
      "Epoch 12/100: Train Loss: 0.08072153891839201\n",
      "Epoch 13/100: Train Loss: 0.07877142052169063\n",
      "Epoch 14/100: Train Loss: 0.07700517275379616\n",
      "Epoch 15/100: Train Loss: 0.07539323825877714\n",
      "Epoch 16/100: Train Loss: 0.0739143772670008\n",
      "Epoch 17/100: Train Loss: 0.07255265143493485\n",
      "Epoch 18/100: Train Loss: 0.071295619816798\n",
      "Epoch 19/100: Train Loss: 0.07013323348309923\n",
      "Epoch 20/100: Train Loss: 0.06905713072419592\n",
      "Epoch 21/100: Train Loss: 0.06806016363817086\n",
      "Epoch 22/100: Train Loss: 0.06713606254489667\n",
      "Epoch 23/100: Train Loss: 0.06627918823782097\n",
      "Epoch 24/100: Train Loss: 0.06548434713165066\n",
      "Epoch 25/100: Train Loss: 0.06474665831702996\n",
      "Epoch 26/100: Train Loss: 0.06406146793776553\n",
      "Epoch 27/100: Train Loss: 0.06342430710158835\n",
      "Epoch 28/100: Train Loss: 0.06283088670250138\n",
      "Epoch 29/100: Train Loss: 0.06227711863398046\n",
      "Epoch 30/100: Train Loss: 0.06175915044664199\n",
      "Epoch 31/100: Train Loss: 0.061273400988176116\n",
      "Epoch 32/100: Train Loss: 0.0608165877402142\n",
      "Epoch 33/100: Train Loss: 0.060385741012526396\n",
      "Epoch 34/100: Train Loss: 0.05997820426057218\n",
      "Epoch 35/100: Train Loss: 0.05959162257068861\n",
      "Epoch 36/100: Train Loss: 0.05922392262964121\n",
      "Epoch 37/100: Train Loss: 0.058873287614263525\n",
      "Epoch 38/100: Train Loss: 0.058538129908162415\n",
      "Epoch 39/100: Train Loss: 0.0582170637929455\n",
      "Epoch 40/100: Train Loss: 0.05790887952427638\n",
      "Epoch 41/100: Train Loss: 0.05761251960154584\n",
      "Epoch 42/100: Train Loss: 0.05732705759978963\n",
      "Epoch 43/100: Train Loss: 0.05705167963698428\n",
      "Epoch 44/100: Train Loss: 0.05678566836778233\n",
      "Epoch 45/100: Train Loss: 0.056528389294385216\n",
      "Epoch 46/100: Train Loss: 0.056279279140112284\n",
      "Epoch 47/100: Train Loss: 0.05603783602113902\n",
      "Epoch 48/100: Train Loss: 0.0558036111624983\n",
      "Epoch 49/100: Train Loss: 0.05557620192608825\n",
      "Epoch 50/100: Train Loss: 0.055355245944793754\n",
      "Epoch 51/100: Train Loss: 0.05514041618406394\n",
      "Epoch 52/100: Train Loss: 0.054931416778211256\n",
      "Epoch 53/100: Train Loss: 0.05472797951212902\n",
      "Epoch 54/100: Train Loss: 0.05452986083963263\n",
      "Epoch 55/100: Train Loss: 0.0543368393471522\n",
      "Epoch 56/100: Train Loss: 0.05414871358617608\n",
      "Epoch 57/100: Train Loss: 0.05396530020999647\n",
      "Epoch 58/100: Train Loss: 0.053786432360199865\n",
      "Epoch 59/100: Train Loss: 0.0536119582563635\n",
      "Epoch 60/100: Train Loss: 0.053441739948845234\n",
      "Epoch 61/100: Train Loss: 0.05327565219970753\n",
      "Epoch 62/100: Train Loss: 0.05311358146096465\n",
      "Epoch 63/100: Train Loss: 0.052955424922764116\n",
      "Epoch 64/100: Train Loss: 0.052801089607038165\n",
      "Epoch 65/100: Train Loss: 0.05265049148484136\n",
      "Epoch 66/100: Train Loss: 0.05250355459825499\n",
      "Epoch 67/100: Train Loss: 0.05236021017058652\n",
      "Epoch 68/100: Train Loss: 0.05222039569182814\n",
      "Epoch 69/100: Train Loss: 0.05208405397010725\n",
      "Epoch 70/100: Train Loss: 0.05195113214425631\n",
      "Epoch 71/100: Train Loss: 0.051821580657672395\n",
      "Epoch 72/100: Train Loss: 0.05169535219925671\n",
      "Epoch 73/100: Train Loss: 0.05157240062319156\n",
      "Epoch 74/100: Train Loss: 0.05145267986534901\n",
      "Epoch 75/100: Train Loss: 0.05133614287975633\n",
      "Epoch 76/100: Train Loss: 0.05122274062326305\n",
      "Epoch 77/100: Train Loss: 0.05111242111981313\n",
      "Epoch 78/100: Train Loss: 0.05100512863698385\n",
      "Epoch 79/100: Train Loss: 0.050900803006344565\n",
      "Epoch 80/100: Train Loss: 0.05079937911549162\n",
      "Epoch 81/100: Train Loss: 0.05070078659343372\n",
      "Epoch 82/100: Train Loss: 0.05060494970266909\n",
      "Epoch 83/100: Train Loss: 0.05051178744147297\n",
      "Epoch 84/100: Train Loss: 0.05042121384943399\n",
      "Epoch 85/100: Train Loss: 0.05033313849907476\n",
      "Epoch 86/100: Train Loss: 0.05024746714740956\n",
      "Epoch 87/100: Train Loss: 0.05016410251425627\n",
      "Epoch 88/100: Train Loss: 0.05008294514960889\n",
      "Epoch 89/100: Train Loss: 0.05000389435056588\n",
      "Epoch 90/100: Train Loss: 0.04992684908916742\n",
      "Epoch 91/100: Train Loss: 0.04985170891566538\n",
      "Epoch 92/100: Train Loss: 0.04977837480672293\n",
      "Epoch 93/100: Train Loss: 0.04970674993420271\n",
      "Epoch 94/100: Train Loss: 0.049636740336911726\n",
      "Epoch 95/100: Train Loss: 0.04956825548437584\n",
      "Epoch 96/100: Train Loss: 0.04950120872793164\n",
      "Epoch 97/100: Train Loss: 0.04943551763983431\n",
      "Epoch 98/100: Train Loss: 0.049371104245482536\n",
      "Epoch 99/100: Train Loss: 0.04930789515718352\n",
      "Epoch 100/100: Train Loss: 0.049245821620142106\n"
     ]
    }
   ],
   "source": [
    "fit(100)    "
   ]
  },
  {
   "cell_type": "code",
   "execution_count": 6,
   "id": "7ef75d7b",
   "metadata": {},
   "outputs": [
    {
     "name": "stdout",
     "output_type": "stream",
     "text": [
      "Creating Function of type <class 'src.function._Sigmoid'> with name sigmoid_0\n",
      "Creating Function of type <class 'src.function._Sigmoid'> with name sigmoid_1\n"
     ]
    }
   ],
   "source": [
    "y_train_pred = predict(X_train)\n",
    "y_test_pred = predict(X_test)"
   ]
  },
  {
   "cell_type": "code",
   "execution_count": 7,
   "id": "f5e145e5",
   "metadata": {},
   "outputs": [
    {
     "name": "stdout",
     "output_type": "stream",
     "text": [
      "Confusion Matrix\n",
      "[[157   4]\n",
      " [  1 264]]\n",
      "\n",
      "Accuracy: 0.9882629107981221\n",
      "Precision: 0.9850746268656716\n",
      "Recall: 0.9962264150943396\n",
      "AUC score: 0.9856908472987226\n",
      "MCC score: 0.9750566521699535\n",
      "F1-Score: 0.9906191369606003\n",
      "\n",
      "\n",
      "Confusion Matrix\n",
      "[[50  1]\n",
      " [ 0 92]]\n",
      "\n",
      "Accuracy: 0.993006993006993\n",
      "Precision: 0.989247311827957\n",
      "Recall: 1.0\n",
      "AUC score: 0.9901960784313725\n",
      "MCC score: 0.9848097814876146\n",
      "F1-Score: 0.9945945945945946\n",
      "\n"
     ]
    }
   ],
   "source": [
    "from sklearn.metrics import confusion_matrix, ConfusionMatrixDisplay, auc, roc_curve, matthews_corrcoef\n",
    "\n",
    "def print_metrics(y_true, y_pred):\n",
    "    conf_matrix = confusion_matrix(y_true, y_pred)\n",
    "    tn, fp, fn, tp = conf_matrix.ravel()\n",
    "    fpr, tpr, thresholds = roc_curve(y_true, y_pred)\n",
    "    mcc = matthews_corrcoef(y_true, y_pred)    \n",
    "\n",
    "    print(f\"Confusion Matrix\")\n",
    "    print(f\"{conf_matrix}\\n\")\n",
    "    print(f\"Accuracy: {(tp + tn)/(tp + tn + fn + fp)}\")\n",
    "    print(f\"Precision: {tp / (tp + fp)}\")\n",
    "    print(f\"Recall: {tp / (tp + fn)}\")\n",
    "    print(f\"AUC score: {auc(fpr, tpr)}\")\n",
    "    print(f\"MCC score: {mcc}\")\n",
    "    print(f\"F1-Score: {(tp)/(tp+(fp+fn)/2)}\\n\")\n",
    "    \n",
    "print_metrics(y_train.value, y_train_pred)\n",
    "print(\"\")\n",
    "print_metrics(y_test.value, y_test_pred)"
   ]
  },
  {
   "cell_type": "code",
   "execution_count": null,
   "id": "646c76ec",
   "metadata": {},
   "outputs": [],
   "source": []
  }
 ],
 "metadata": {
  "kernelspec": {
   "display_name": "Python 3 (ipykernel)",
   "language": "python",
   "name": "python3"
  },
  "language_info": {
   "codemirror_mode": {
    "name": "ipython",
    "version": 3
   },
   "file_extension": ".py",
   "mimetype": "text/x-python",
   "name": "python",
   "nbconvert_exporter": "python",
   "pygments_lexer": "ipython3",
   "version": "3.11.4"
  }
 },
 "nbformat": 4,
 "nbformat_minor": 5
}
