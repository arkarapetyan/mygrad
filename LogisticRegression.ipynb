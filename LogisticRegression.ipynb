{
 "cells": [
  {
   "cell_type": "code",
   "execution_count": 1,
   "id": "initial_id",
   "metadata": {},
   "outputs": [],
   "source": [
    "from src.value import Value\n",
    "import src.function as F\n",
    "import numpy as np"
   ]
  },
  {
   "cell_type": "code",
   "execution_count": 2,
   "id": "79eba654",
   "metadata": {},
   "outputs": [],
   "source": [
    "from sklearn.datasets import load_breast_cancer\n",
    "from sklearn.preprocessing import StandardScaler\n",
    "from sklearn.model_selection import train_test_split\n",
    "\n",
    "X, y = load_breast_cancer(return_X_y = True)\n",
    "X_train, X_test, y_train, y_test = train_test_split(X, y)\n",
    "\n",
    "scaler = StandardScaler()\n",
    "X_train = scaler.fit_transform(X_train)\n",
    "X_test = scaler.transform(X_test)\n",
    "\n",
    "X_train = Value(X_train, \"x_train\", requires_grad=False)\n",
    "X_test = Value(X_test, \"x_test\", requires_grad=False)\n",
    "y_train = Value(y_train, \"y_train\", requires_grad=False)\n",
    "y_test = Value(y_test, \"y_test\", requires_grad=False)"
   ]
  },
  {
   "cell_type": "code",
   "execution_count": 3,
   "id": "aa9a59fd",
   "metadata": {},
   "outputs": [],
   "source": [
    "w = Value(np.random.randn(X.shape[1]) * 10**(-2), \"w\", requires_grad = True)\n",
    "b = Value([0.0], \"b\", requires_grad = True)"
   ]
  },
  {
   "cell_type": "code",
   "execution_count": 4,
   "id": "a8a028fc",
   "metadata": {},
   "outputs": [
    {
     "name": "stdout",
     "output_type": "stream",
     "text": [
      "Creating Function of type <class 'src.function._Matmul'> with name matmul_0\n",
      "Creating Function of type <class 'src.function._Add'> with name add_0\n",
      "Creating Function of type <class 'src.function._BCELossWithLogits'> with name bce_loss_logit_0\n"
     ]
    }
   ],
   "source": [
    "lr = 0.01\n",
    "\n",
    "matmul1 = F._FunctionFactory().get_new_function_of_type(F._Matmul)\n",
    "add1 = F._FunctionFactory().get_new_function_of_type(F._Add)\n",
    "loss = F._FunctionFactory().get_new_function_of_type(F._BCELossWithLogits)\n",
    "    \n",
    "def fit(X, num_epoch):     \n",
    "    for i in range(num_epoch):\n",
    "        \n",
    "        y = add1.forward(matmul1.forward(X, w), b)\n",
    "        l = loss.forward(y, y_train)\n",
    "        loss.backward()\n",
    "        w.value -= lr * w.grad\n",
    "        b.value -= lr * b.grad\n",
    "        l.zero_grad()   \n",
    "        \n",
    "        # if i % 10:\n",
    "        print(f\"Epoch {i+1}/{num_epoch}: Train Loss: {l.value}\")\n",
    "\n",
    "def predict(X):\n",
    "    y = add1.forward(matmul1.forward(X, w), b)\n",
    "    y_pred = F.sigmoid(y).value > 0.5\n",
    "    \n",
    "    return y_pred"
   ]
  },
  {
   "cell_type": "code",
   "execution_count": 5,
   "id": "05ccf6e0",
   "metadata": {},
   "outputs": [
    {
     "name": "stdout",
     "output_type": "stream",
     "text": [
      "Epoch 1/100: Train Loss: 0.7111910626456543\n",
      "Epoch 2/100: Train Loss: 0.35819554342383836\n",
      "Epoch 3/100: Train Loss: 0.23052526520194486\n",
      "Epoch 4/100: Train Loss: 0.16445779775753966\n",
      "Epoch 5/100: Train Loss: 0.13177811910804282\n",
      "Epoch 6/100: Train Loss: 0.11847836847010143\n",
      "Epoch 7/100: Train Loss: 0.1101922716558072\n",
      "Epoch 8/100: Train Loss: 0.10408022589488661\n",
      "Epoch 9/100: Train Loss: 0.09926509683589126\n",
      "Epoch 10/100: Train Loss: 0.09530701821851074\n",
      "Epoch 11/100: Train Loss: 0.09195705785402104\n",
      "Epoch 12/100: Train Loss: 0.08907265196882662\n",
      "Epoch 13/100: Train Loss: 0.08656838335847117\n",
      "Epoch 14/100: Train Loss: 0.08438325298593806\n",
      "Epoch 15/100: Train Loss: 0.0824622599369914\n",
      "Epoch 16/100: Train Loss: 0.08075315288489458\n",
      "Epoch 17/100: Train Loss: 0.07921198386660316\n",
      "Epoch 18/100: Train Loss: 0.0778068756672075\n",
      "Epoch 19/100: Train Loss: 0.07651659784544076\n",
      "Epoch 20/100: Train Loss: 0.0753270236815666\n",
      "Epoch 21/100: Train Loss: 0.07422818779497128\n",
      "Epoch 22/100: Train Loss: 0.0732125055079567\n",
      "Epoch 23/100: Train Loss: 0.07227379340174356\n",
      "Epoch 24/100: Train Loss: 0.07140669893720573\n",
      "Epoch 25/100: Train Loss: 0.07060632067714688\n",
      "Epoch 26/100: Train Loss: 0.06986793701232748\n",
      "Epoch 27/100: Train Loss: 0.06918683175452944\n",
      "Epoch 28/100: Train Loss: 0.06855822454563756\n",
      "Epoch 29/100: Train Loss: 0.06797730108328386\n",
      "Epoch 30/100: Train Loss: 0.06743931400904904\n",
      "Epoch 31/100: Train Loss: 0.06693971039618539\n",
      "Epoch 32/100: Train Loss: 0.06647424544470988\n",
      "Epoch 33/100: Train Loss: 0.0660390589880815\n",
      "Epoch 34/100: Train Loss: 0.06563070995953603\n",
      "Epoch 35/100: Train Loss: 0.06524617595688124\n",
      "Epoch 36/100: Train Loss: 0.06488282927194443\n",
      "Epoch 37/100: Train Loss: 0.0645383999625409\n",
      "Epoch 38/100: Train Loss: 0.0642109338169731\n",
      "Epoch 39/100: Train Loss: 0.06389875024665273\n",
      "Epoch 40/100: Train Loss: 0.0636004029464555\n",
      "Epoch 41/100: Train Loss: 0.06331464467037967\n",
      "Epoch 42/100: Train Loss: 0.06304039654551474\n",
      "Epoch 43/100: Train Loss: 0.06277672182063776\n",
      "Epoch 44/100: Train Loss: 0.06252280367678378\n",
      "Epoch 45/100: Train Loss: 0.0622779266156898\n",
      "Epoch 46/100: Train Loss: 0.06204146092124113\n",
      "Epoch 47/100: Train Loss: 0.06181284971653093\n",
      "Epoch 48/100: Train Loss: 0.06159159818906837\n",
      "Epoch 49/100: Train Loss: 0.06137726461407014\n",
      "Epoch 50/100: Train Loss: 0.061169452862397736\n",
      "Epoch 51/100: Train Loss: 0.06096780613155105\n",
      "Epoch 52/100: Train Loss: 0.06077200168355062\n",
      "Epoch 53/100: Train Loss: 0.060581746412193764\n",
      "Epoch 54/100: Train Loss: 0.0603967730945285\n",
      "Epoch 55/100: Train Loss: 0.060216837208059364\n",
      "Epoch 56/100: Train Loss: 0.06004171421706812\n",
      "Epoch 57/100: Train Loss: 0.05987119724920873\n",
      "Epoch 58/100: Train Loss: 0.05970509509797201\n",
      "Epoch 59/100: Train Loss: 0.05954323049829881\n",
      "Epoch 60/100: Train Loss: 0.05938543863206931\n",
      "Epoch 61/100: Train Loss: 0.059231565827864104\n",
      "Epoch 62/100: Train Loss: 0.05908146842557627\n",
      "Epoch 63/100: Train Loss: 0.0589350117815101\n",
      "Epoch 64/100: Train Loss: 0.058792069393689056\n",
      "Epoch 65/100: Train Loss: 0.058652522130436285\n",
      "Epoch 66/100: Train Loss: 0.05851625754804972\n",
      "Epoch 67/100: Train Loss: 0.058383169285606065\n",
      "Epoch 68/100: Train Loss: 0.05825315652681807\n",
      "Epoch 69/100: Train Loss: 0.05812612352036514\n",
      "Epoch 70/100: Train Loss: 0.05800197915141752\n",
      "Epoch 71/100: Train Loss: 0.057880636558108614\n",
      "Epoch 72/100: Train Loss: 0.05776201278761046\n",
      "Epoch 73/100: Train Loss: 0.057646028487199734\n",
      "Epoch 74/100: Train Loss: 0.057532607626332076\n",
      "Epoch 75/100: Train Loss: 0.05742167724626647\n",
      "Epoch 76/100: Train Loss: 0.05731316723423089\n",
      "Epoch 77/100: Train Loss: 0.05720701011950083\n",
      "Epoch 78/100: Train Loss: 0.057103140889085253\n",
      "Epoch 79/100: Train Loss: 0.05700149682099699\n",
      "Epoch 80/100: Train Loss: 0.05690201733331496\n",
      "Epoch 81/100: Train Loss: 0.05680464384746436\n",
      "Epoch 82/100: Train Loss: 0.056709319664301774\n",
      "Epoch 83/100: Train Loss: 0.0566159898517629\n",
      "Epoch 84/100: Train Loss: 0.0565246011429509\n",
      "Epoch 85/100: Train Loss: 0.056435101843669226\n",
      "Epoch 86/100: Train Loss: 0.05634744174849724\n",
      "Epoch 87/100: Train Loss: 0.056261572064602396\n",
      "Epoch 88/100: Train Loss: 0.056177445342557863\n",
      "Epoch 89/100: Train Loss: 0.056095015413503806\n",
      "Epoch 90/100: Train Loss: 0.0560142373320541\n",
      "Epoch 91/100: Train Loss: 0.05593506732440015\n",
      "Epoch 92/100: Train Loss: 0.05585746274112032\n",
      "Epoch 93/100: Train Loss: 0.05578138201423669\n",
      "Epoch 94/100: Train Loss: 0.05570678461810829\n",
      "Epoch 95/100: Train Loss: 0.05563363103378162\n",
      "Epoch 96/100: Train Loss: 0.05556188271645113\n",
      "Epoch 97/100: Train Loss: 0.05549150206571317\n",
      "Epoch 98/100: Train Loss: 0.05542245239832109\n",
      "Epoch 99/100: Train Loss: 0.05535469792317599\n",
      "Epoch 100/100: Train Loss: 0.05528820371830899\n"
     ]
    }
   ],
   "source": [
    "fit(X_train, 100)    "
   ]
  },
  {
   "cell_type": "code",
   "execution_count": 6,
   "id": "7ef75d7b",
   "metadata": {},
   "outputs": [
    {
     "name": "stdout",
     "output_type": "stream",
     "text": [
      "Creating Function of type <class 'src.function._Sigmoid'> with name sigmoid_0\n",
      "Creating Function of type <class 'src.function._Sigmoid'> with name sigmoid_1\n"
     ]
    }
   ],
   "source": [
    "y_train_pred = predict(X_train)\n",
    "y_test_pred = predict(X_test)"
   ]
  },
  {
   "cell_type": "code",
   "execution_count": 7,
   "id": "f5e145e5",
   "metadata": {},
   "outputs": [
    {
     "name": "stdout",
     "output_type": "stream",
     "text": [
      "Confusion Matrix\n",
      "[[160   4]\n",
      " [  0 262]]\n",
      "\n",
      "Accuracy: 0.9906103286384976\n",
      "Precision: 0.9849624060150376\n",
      "Recall: 1.0\n",
      "AUC score: 0.9878048780487805\n",
      "MCC score: 0.9802749270983103\n",
      "F1-Score: 0.9924242424242424\n",
      "\n",
      "\n",
      "Confusion Matrix\n",
      "[[47  1]\n",
      " [ 1 94]]\n",
      "\n",
      "Accuracy: 0.986013986013986\n",
      "Precision: 0.9894736842105263\n",
      "Recall: 0.9894736842105263\n",
      "AUC score: 0.9843201754385964\n",
      "MCC score: 0.968640350877193\n",
      "F1-Score: 0.9894736842105263\n",
      "\n"
     ]
    }
   ],
   "source": [
    "from sklearn.metrics import confusion_matrix, ConfusionMatrixDisplay, auc, roc_curve, matthews_corrcoef\n",
    "\n",
    "def print_metrics(y_true, y_pred):\n",
    "    conf_matrix = confusion_matrix(y_true, y_pred)\n",
    "    tn, fp, fn, tp = conf_matrix.ravel()\n",
    "    fpr, tpr, thresholds = roc_curve(y_true, y_pred)\n",
    "    mcc = matthews_corrcoef(y_true, y_pred)    \n",
    "\n",
    "    print(f\"Confusion Matrix\")\n",
    "    print(f\"{conf_matrix}\\n\")\n",
    "    print(f\"Accuracy: {(tp + tn)/(tp + tn + fn + fp)}\")\n",
    "    print(f\"Precision: {tp / (tp + fp)}\")\n",
    "    print(f\"Recall: {tp / (tp + fn)}\")\n",
    "    print(f\"AUC score: {auc(fpr, tpr)}\")\n",
    "    print(f\"MCC score: {mcc}\")\n",
    "    print(f\"F1-Score: {(tp)/(tp+(fp+fn)/2)}\\n\")\n",
    "    \n",
    "print_metrics(y_train.value, y_train_pred)\n",
    "print(\"\")\n",
    "print_metrics(y_test.value, y_test_pred)"
   ]
  },
  {
   "cell_type": "code",
   "execution_count": null,
   "id": "646c76ec",
   "metadata": {},
   "outputs": [],
   "source": []
  }
 ],
 "metadata": {
  "kernelspec": {
   "display_name": "Python 3 (ipykernel)",
   "language": "python",
   "name": "python3"
  },
  "language_info": {
   "codemirror_mode": {
    "name": "ipython",
    "version": 3
   },
   "file_extension": ".py",
   "mimetype": "text/x-python",
   "name": "python",
   "nbconvert_exporter": "python",
   "pygments_lexer": "ipython3",
   "version": "3.11.4"
  }
 },
 "nbformat": 4,
 "nbformat_minor": 5
}
